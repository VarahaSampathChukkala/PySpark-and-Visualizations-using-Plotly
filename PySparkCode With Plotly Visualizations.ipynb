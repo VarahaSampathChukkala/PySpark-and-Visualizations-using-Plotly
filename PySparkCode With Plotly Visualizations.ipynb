{
 "cells": [
  {
   "cell_type": "code",
   "execution_count": 0,
   "metadata": {
    "colab": {},
    "colab_type": "code",
    "id": "wpWY9oXocTyk"
   },
   "outputs": [],
   "source": []
  },
  {
   "cell_type": "code",
   "execution_count": 1,
   "metadata": {
    "colab": {
     "base_uri": "https://localhost:8080/",
     "height": 122
    },
    "colab_type": "code",
    "id": "UrhzZajDcj8n",
    "outputId": "c5290058-108e-41ad-fc6a-bf39cb232d0d"
   },
   "outputs": [
    {
     "name": "stdout",
     "output_type": "stream",
     "text": [
      "Go to this URL in a browser: https://accounts.google.com/o/oauth2/auth?client_id=947318989803-6bn6qk8qdgf4n4g3pfee6491hc0brc4i.apps.googleusercontent.com&redirect_uri=urn%3aietf%3awg%3aoauth%3a2.0%3aoob&response_type=code&scope=email%20https%3a%2f%2fwww.googleapis.com%2fauth%2fdocs.test%20https%3a%2f%2fwww.googleapis.com%2fauth%2fdrive%20https%3a%2f%2fwww.googleapis.com%2fauth%2fdrive.photos.readonly%20https%3a%2f%2fwww.googleapis.com%2fauth%2fpeopleapi.readonly\n",
      "\n",
      "Enter your authorization code:\n",
      "··········\n",
      "Mounted at /content/drive\n"
     ]
    }
   ],
   "source": [
    "from google.colab import drive\n",
    "drive.mount('/content/drive')"
   ]
  },
  {
   "cell_type": "code",
   "execution_count": 0,
   "metadata": {
    "colab": {},
    "colab_type": "code",
    "id": "1YdQ3WzNcpbA"
   },
   "outputs": [],
   "source": [
    "!apt-get install openjdk-8-jdk-headless -qq > /dev/null\n",
    "!wget -q https://www-us.apache.org/dist/spark/spark-2.4.4/spark-2.4.4-bin-hadoop2.7.tgz\n",
    "!tar xf /content/spark-2.4.4-bin-hadoop2.7.tgz\n",
    "!pip install -q findspark"
   ]
  },
  {
   "cell_type": "markdown",
   "metadata": {
    "colab_type": "text",
    "id": "M6fZjJWBsp-O"
   },
   "source": []
  },
  {
   "cell_type": "code",
   "execution_count": 0,
   "metadata": {
    "colab": {},
    "colab_type": "code",
    "id": "7ikBUYeldNyR"
   },
   "outputs": [],
   "source": [
    "import os\n",
    "os.environ[\"JAVA_HOME\"] = \"/usr/lib/jvm/java-8-openjdk-amd64\"\n",
    "os.environ[\"SPARK_HOME\"] = \"/content/spark-2.4.4-bin-hadoop2.7\""
   ]
  },
  {
   "cell_type": "code",
   "execution_count": 0,
   "metadata": {
    "colab": {},
    "colab_type": "code",
    "id": "D_eE1eUkdN1U"
   },
   "outputs": [],
   "source": [
    "# To run spark on cluster\n",
    "import findspark\n",
    "findspark.init()\n",
    "from pyspark.sql import SparkSession\n",
    "spark= SparkSession.builder.master(\"local[*]\").getOrCreate()  "
   ]
  },
  {
   "cell_type": "code",
   "execution_count": 0,
   "metadata": {
    "colab": {},
    "colab_type": "code",
    "id": "rAnTRXRlitnx"
   },
   "outputs": [],
   "source": [
    "from pyspark.sql.types import *"
   ]
  },
  {
   "cell_type": "code",
   "execution_count": 0,
   "metadata": {
    "colab": {},
    "colab_type": "code",
    "id": "eu3OPl1LdNvy"
   },
   "outputs": [],
   "source": [
    "# Spark context and Spark Session we consider it as as gateway to run spark\n",
    "sc=spark.sparkContext"
   ]
  },
  {
   "cell_type": "code",
   "execution_count": 0,
   "metadata": {
    "colab": {},
    "colab_type": "code",
    "id": "OLNj2E7peA5n"
   },
   "outputs": [],
   "source": [
    "data_labels = spark.read.format(\"csv\")\\\n",
    "         .option(\"header\", \"true\")\\\n",
    "         .option(\"inferSchema\", \"true\")\\\n",
    "         .load(\"/content/drive/My Drive/waterpoint_data_labels-1575881325136.csv\")"
   ]
  },
  {
   "cell_type": "code",
   "execution_count": 81,
   "metadata": {
    "colab": {
     "base_uri": "https://localhost:8080/",
     "height": 34
    },
    "colab_type": "code",
    "id": "9wpyhWXyeA76",
    "outputId": "45ec804a-0af6-4ca8-925d-0d794601af13"
   },
   "outputs": [
    {
     "data": {
      "text/plain": [
       "[('id', 'int'), ('status_group', 'string')]"
      ]
     },
     "execution_count": 81,
     "metadata": {
      "tags": []
     },
     "output_type": "execute_result"
    }
   ],
   "source": [
    "data_labels.dtypes"
   ]
  },
  {
   "cell_type": "code",
   "execution_count": 0,
   "metadata": {
    "colab": {},
    "colab_type": "code",
    "id": "Y2v58orReeaH"
   },
   "outputs": [],
   "source": [
    "data_values = spark.read.format(\"csv\")\\\n",
    "         .option(\"header\", \"true\")\\\n",
    "         .option(\"inferSchema\", \"true\")\\\n",
    "         .load(\"/content/drive/My Drive/waterpoint_data_values-1575881300405.csv\")"
   ]
  },
  {
   "cell_type": "code",
   "execution_count": 83,
   "metadata": {
    "colab": {
     "base_uri": "https://localhost:8080/",
     "height": 697
    },
    "colab_type": "code",
    "id": "R7rR8rK2eeX7",
    "outputId": "b3abad5f-f491-4f88-fcd9-2604a2181b54"
   },
   "outputs": [
    {
     "data": {
      "text/plain": [
       "[('id', 'int'),\n",
       " ('amount_tsh', 'double'),\n",
       " ('date_recorded', 'timestamp'),\n",
       " ('funder', 'string'),\n",
       " ('gps_height', 'int'),\n",
       " ('installer', 'string'),\n",
       " ('longitude', 'double'),\n",
       " ('latitude', 'double'),\n",
       " ('wpt_name', 'string'),\n",
       " ('num_private', 'int'),\n",
       " ('basin', 'string'),\n",
       " ('subvillage', 'string'),\n",
       " ('region', 'string'),\n",
       " ('region_code', 'int'),\n",
       " ('district_code', 'int'),\n",
       " ('lga', 'string'),\n",
       " ('ward', 'string'),\n",
       " ('population', 'int'),\n",
       " ('public_meeting', 'boolean'),\n",
       " ('recorded_by', 'string'),\n",
       " ('scheme_management', 'string'),\n",
       " ('scheme_name', 'string'),\n",
       " ('permit', 'boolean'),\n",
       " ('construction_year', 'int'),\n",
       " ('extraction_type', 'string'),\n",
       " ('extraction_type_group', 'string'),\n",
       " ('extraction_type_class', 'string'),\n",
       " ('management', 'string'),\n",
       " ('management_group', 'string'),\n",
       " ('payment', 'string'),\n",
       " ('payment_type', 'string'),\n",
       " ('water_quality', 'string'),\n",
       " ('quality_group', 'string'),\n",
       " ('quantity', 'string'),\n",
       " ('quantity_group', 'string'),\n",
       " ('source', 'string'),\n",
       " ('source_type', 'string'),\n",
       " ('source_class', 'string'),\n",
       " ('waterpoint_type', 'string'),\n",
       " ('waterpoint_type_group', 'string')]"
      ]
     },
     "execution_count": 83,
     "metadata": {
      "tags": []
     },
     "output_type": "execute_result"
    }
   ],
   "source": [
    "data_values.dtypes"
   ]
  },
  {
   "cell_type": "code",
   "execution_count": 0,
   "metadata": {
    "colab": {},
    "colab_type": "code",
    "id": "0Nu7tfSMmxHf"
   },
   "outputs": [],
   "source": [
    "### Task1:​ Create the schema for the two files and two different dataframes for the two  files"
   ]
  },
  {
   "cell_type": "code",
   "execution_count": 0,
   "metadata": {
    "colab": {},
    "colab_type": "code",
    "id": "VJL0lAJskV9d"
   },
   "outputs": [],
   "source": [
    "data_values_Schema = StructType([\n",
    "    StructField(\"id\", IntegerType(), True),\n",
    "    StructField(\"amount_tsh\", DoubleType(), True),\n",
    "    StructField(\"date_recorded\", TimestampType(), True),\n",
    "    StructField(\"funder\", StringType(), True),\n",
    "    StructField(\"gps_height\", IntegerType(), True),\n",
    "    StructField(\"installer\", StringType(), True),\n",
    "    StructField(\"longitude\", DoubleType(), True),\n",
    "    StructField(\"latitude\", DoubleType(), True),\n",
    "    StructField(\"wpt_name\", StringType(), True),\n",
    "    StructField(\"num_private\", IntegerType(), True),\n",
    "    StructField(\"basin\", StringType(), True),\n",
    "    StructField(\"subvillage\", StringType(), True),\n",
    "    StructField(\"region\", StringType(), True),\n",
    "    StructField(\"region_code\", IntegerType(), True),\n",
    "    StructField(\"district_code\", IntegerType(), True),\n",
    "    StructField(\"lga\", StringType(), True),\n",
    "    StructField(\"ward\", StringType(), True),\n",
    "    StructField(\"population\", IntegerType(), True),\n",
    "    StructField(\"public_meeting\", StringType(), True),\n",
    "    StructField(\"recorded_by\", StringType(), True),\n",
    "    StructField(\"scheme_management\", StringType(), True),\n",
    "    StructField(\"scheme_name\", StringType(), True),\n",
    "    StructField(\"permit\", BooleanType(), True),\n",
    "    StructField(\"construction_year\", IntegerType(), True),\n",
    "    StructField(\"extraction_type\", StringType(), True),\n",
    "    StructField(\"extraction_type_group\", StringType(), True),\n",
    "    StructField(\"extraction_type_class\", StringType(), True),\n",
    "    StructField(\"management\", StringType(), True),\n",
    "    StructField(\"management_group\", StringType(), True),\n",
    "    StructField(\"payment\", StringType(), True),\n",
    "    StructField(\"payment_type\", StringType(), True),\n",
    "    StructField(\"water_quality\", StringType(), True),\n",
    "    StructField(\"quality_group\", StringType(), True),\n",
    "    StructField(\"quantity\", StringType(), True),\n",
    "    StructField(\"quantity_group\", StringType(), True),\n",
    "    StructField(\"source\", StringType(), True),\n",
    "    StructField(\"source_type\", StringType(), True),\n",
    "    StructField(\"source_class\", StringType(), True),\n",
    "    StructField(\"waterpoint_type\", StringType(), True),\n",
    "    StructField(\"waterpoint_type_group\", StringType(), True)\n",
    "])\n",
    "\n",
    "data_labels_Schema = StructType([\n",
    "    StructField(\"id\", IntegerType(), True),\n",
    "    StructField(\"status_group\", StringType(), True)\n",
    "])"
   ]
  },
  {
   "cell_type": "code",
   "execution_count": 0,
   "metadata": {
    "colab": {},
    "colab_type": "code",
    "id": "L0ila7W4jvGO"
   },
   "outputs": [],
   "source": [
    "data_values_df=train_DF=spark.read.csv('/content/drive/My Drive/waterpoint_data_values-1575881300405.csv',header=True,schema=data_values_Schema)\n",
    "data_labels_df=train_DF=spark.read.csv('/content/drive/My Drive/waterpoint_data_labels-1575881325136.csv',header=True,schema=data_labels_Schema)"
   ]
  },
  {
   "cell_type": "code",
   "execution_count": 87,
   "metadata": {
    "colab": {
     "base_uri": "https://localhost:8080/",
     "height": 71
    },
    "colab_type": "code",
    "id": "txn8XlHVpRN9",
    "outputId": "c40ed747-aae3-4130-bcae-6fb0b4461316"
   },
   "outputs": [
    {
     "name": "stdout",
     "output_type": "stream",
     "text": [
      "[('id', 'int'), ('amount_tsh', 'double'), ('date_recorded', 'timestamp'), ('funder', 'string'), ('gps_height', 'int'), ('installer', 'string'), ('longitude', 'double'), ('latitude', 'double'), ('wpt_name', 'string'), ('num_private', 'int'), ('basin', 'string'), ('subvillage', 'string'), ('region', 'string'), ('region_code', 'int'), ('district_code', 'int'), ('lga', 'string'), ('ward', 'string'), ('population', 'int'), ('public_meeting', 'string'), ('recorded_by', 'string'), ('scheme_management', 'string'), ('scheme_name', 'string'), ('permit', 'boolean'), ('construction_year', 'int'), ('extraction_type', 'string'), ('extraction_type_group', 'string'), ('extraction_type_class', 'string'), ('management', 'string'), ('management_group', 'string'), ('payment', 'string'), ('payment_type', 'string'), ('water_quality', 'string'), ('quality_group', 'string'), ('quantity', 'string'), ('quantity_group', 'string'), ('source', 'string'), ('source_type', 'string'), ('source_class', 'string'), ('waterpoint_type', 'string'), ('waterpoint_type_group', 'string')]\n",
      "[('id', 'int'), ('status_group', 'string')]\n"
     ]
    }
   ],
   "source": [
    "print(data_values_df.dtypes)\n",
    "print(data_labels_df.dtypes)"
   ]
  },
  {
   "cell_type": "code",
   "execution_count": 0,
   "metadata": {
    "colab": {},
    "colab_type": "code",
    "id": "8cLmv68Zcpdo"
   },
   "outputs": [],
   "source": [
    "### Task2: ​Verify the row counts of the two dataFrames and check whether the counts are matching or not"
   ]
  },
  {
   "cell_type": "code",
   "execution_count": 89,
   "metadata": {
    "colab": {
     "base_uri": "https://localhost:8080/",
     "height": 68
    },
    "colab_type": "code",
    "id": "m-iz7KH3nGIU",
    "outputId": "2b596c9f-2ec4-4cca-fda3-0bf77fb2b26b"
   },
   "outputs": [
    {
     "name": "stdout",
     "output_type": "stream",
     "text": [
      "Number of records in waterpoint_data_values-1575881300405.csv file is  59400\n",
      "Number of records in waterpoint_data_labels-1575881325136.csv file is  59400\n",
      "Equal number of records in both files\n"
     ]
    }
   ],
   "source": [
    "print(\"Number of records in waterpoint_data_values-1575881300405.csv file is \",data_values_df.count())\n",
    "print(\"Number of records in waterpoint_data_labels-1575881325136.csv file is \",data_labels_df.count())\n",
    "\n",
    "if data_labels_df.count()==data_values_df.count():\n",
    "  print(\"Equal number of records in both files\")\n",
    "else:\n",
    "  print(\"Not Equal number of records in both files\")\n",
    "\n"
   ]
  },
  {
   "cell_type": "code",
   "execution_count": 0,
   "metadata": {
    "colab": {},
    "colab_type": "code",
    "id": "WY-VB_oonGMt"
   },
   "outputs": [],
   "source": [
    "### Task3:​ Verify first few rows of both the dataFrames and identify the common column name (key). "
   ]
  },
  {
   "cell_type": "code",
   "execution_count": 91,
   "metadata": {
    "colab": {
     "base_uri": "https://localhost:8080/",
     "height": 377
    },
    "colab_type": "code",
    "id": "pctFJugdnGPP",
    "outputId": "f373843d-f48e-4aa3-86b5-0be4efe57ec3"
   },
   "outputs": [
    {
     "name": "stdout",
     "output_type": "stream",
     "text": [
      "+-----+----------+-------------------+------------+----------+------------+-----------+------------+--------------------+-----------+-----------------------+----------+-------+-----------+-------------+---------+--------+----------+--------------+-----------------------+-----------------+---------------------------+------+-----------------+---------------+---------------------+---------------------+----------+----------------+--------------+------------+-------------+-------------+------------+--------------+--------------------+--------------------+------------+---------------------------+---------------------+\n",
      "|id   |amount_tsh|date_recorded      |funder      |gps_height|installer   |longitude  |latitude    |wpt_name            |num_private|basin                  |subvillage|region |region_code|district_code|lga      |ward    |population|public_meeting|recorded_by            |scheme_management|scheme_name                |permit|construction_year|extraction_type|extraction_type_group|extraction_type_class|management|management_group|payment       |payment_type|water_quality|quality_group|quantity    |quantity_group|source              |source_type         |source_class|waterpoint_type            |waterpoint_type_group|\n",
      "+-----+----------+-------------------+------------+----------+------------+-----------+------------+--------------------+-----------+-----------------------+----------+-------+-----------+-------------+---------+--------+----------+--------------+-----------------------+-----------------+---------------------------+------+-----------------+---------------+---------------------+---------------------+----------+----------------+--------------+------------+-------------+-------------+------------+--------------+--------------------+--------------------+------------+---------------------------+---------------------+\n",
      "|69572|6000.0    |2011-03-14 00:00:00|Roman       |1390      |Roman       |34.93809275|-9.85632177 |none                |0          |Lake Nyasa             |Mnyusi B  |Iringa |11         |5            |Ludewa   |Mundindi|109       |True          |GeoData Consultants Ltd|VWC              |Roman                      |false |1999             |gravity        |gravity              |gravity              |vwc       |user-group      |pay annually  |annually    |soft         |good         |enough      |enough        |spring              |spring              |groundwater |communal standpipe         |communal standpipe   |\n",
      "|8776 |0.0       |2013-03-06 00:00:00|Grumeti     |1399      |GRUMETI     |34.6987661 |-2.14746569 |Zahanati            |0          |Lake Victoria          |Nyamara   |Mara   |20         |2            |Serengeti|Natta   |280       |null          |GeoData Consultants Ltd|Other            |null                       |true  |2010             |gravity        |gravity              |gravity              |wug       |user-group      |never pay     |never pay   |soft         |good         |insufficient|insufficient  |rainwater harvesting|rainwater harvesting|surface     |communal standpipe         |communal standpipe   |\n",
      "|34310|25.0      |2013-02-25 00:00:00|Lottery Club|686       |World vision|37.46066446|-3.82132853 |Kwa Mahundi         |0          |Pangani                |Majengo   |Manyara|21         |4            |Simanjiro|Ngorika |250       |True          |GeoData Consultants Ltd|VWC              |Nyumba ya mungu pipe scheme|true  |2009             |gravity        |gravity              |gravity              |vwc       |user-group      |pay per bucket|per bucket  |soft         |good         |enough      |enough        |dam                 |dam                 |surface     |communal standpipe multiple|communal standpipe   |\n",
      "|67743|0.0       |2013-01-28 00:00:00|Unicef      |263       |UNICEF      |38.48616088|-11.15529772|Zahanati Ya Nanyumbu|0          |Ruvuma / Southern Coast|Mahakamani|Mtwara |90         |63           |Nanyumbu |Nanyumbu|58        |True          |GeoData Consultants Ltd|VWC              |null                       |true  |1986             |submersible    |submersible          |submersible          |vwc       |user-group      |never pay     |never pay   |soft         |good         |dry         |dry           |machine dbh         |borehole            |groundwater |communal standpipe multiple|communal standpipe   |\n",
      "+-----+----------+-------------------+------------+----------+------------+-----------+------------+--------------------+-----------+-----------------------+----------+-------+-----------+-------------+---------+--------+----------+--------------+-----------------------+-----------------+---------------------------+------+-----------------+---------------+---------------------+---------------------+----------+----------------+--------------+------------+-------------+-------------+------------+--------------+--------------------+--------------------+------------+---------------------------+---------------------+\n",
      "only showing top 4 rows\n",
      "\n",
      "+-----+--------------+\n",
      "|id   |status_group  |\n",
      "+-----+--------------+\n",
      "|69572|functional    |\n",
      "|8776 |functional    |\n",
      "|34310|functional    |\n",
      "|67743|non functional|\n",
      "+-----+--------------+\n",
      "only showing top 4 rows\n",
      "\n"
     ]
    }
   ],
   "source": [
    "data_values_df.show(4,truncate=False)\n",
    "data_labels_df.show(4,truncate=False)"
   ]
  },
  {
   "cell_type": "code",
   "execution_count": 92,
   "metadata": {
    "colab": {
     "base_uri": "https://localhost:8080/",
     "height": 34
    },
    "colab_type": "code",
    "id": "pmn8h_lopaFb",
    "outputId": "d17f0658-b220-4e0e-e353-f0d28cc87e93"
   },
   "outputs": [
    {
     "name": "stdout",
     "output_type": "stream",
     "text": [
      "The common column name/names =  ['id']\n"
     ]
    }
   ],
   "source": [
    "common_cols=[x for x in data_labels_df.columns if x in data_values_df.columns]\n",
    "print(\"The common column name/names = \",common_cols)\n"
   ]
  },
  {
   "cell_type": "code",
   "execution_count": 0,
   "metadata": {
    "colab": {},
    "colab_type": "code",
    "id": "2_SkPi-JrVK7"
   },
   "outputs": [],
   "source": [
    "### Task4: ​Create a DataFrame in cache by combining both the Data Frames using the above common column using ​broadcast join​(key)"
   ]
  },
  {
   "cell_type": "code",
   "execution_count": 0,
   "metadata": {
    "colab": {},
    "colab_type": "code",
    "id": "fEN59jM_vJ0r"
   },
   "outputs": [],
   "source": [
    "from pyspark.sql.functions import broadcast\n"
   ]
  },
  {
   "cell_type": "code",
   "execution_count": 0,
   "metadata": {
    "colab": {},
    "colab_type": "code",
    "id": "mWkJkOJmrVSc"
   },
   "outputs": [],
   "source": [
    "combined_data_df=data_values_df.join(\n",
    "  broadcast(data_labels_df),\n",
    "  data_values_df[\"id\"]==data_labels_df[\"id\"]\n",
    ").drop(data_labels_df[\"id\"])"
   ]
  },
  {
   "cell_type": "code",
   "execution_count": 96,
   "metadata": {
    "colab": {
     "base_uri": "https://localhost:8080/",
     "height": 224
    },
    "colab_type": "code",
    "id": "hoMwbvh-143q",
    "outputId": "626bb5c2-03e3-40ea-e8dd-f1d005f64ef7"
   },
   "outputs": [
    {
     "name": "stdout",
     "output_type": "stream",
     "text": [
      "+-----+----------+-------------------+------------+----------+------------+-----------+------------+--------------------+-----------+-----------------------+----------+-------+-----------+-------------+---------+----------+----------+--------------+-----------------------+-----------------+---------------------------+------+-----------------+---------------+---------------------+---------------------+----------+----------------+--------------+------------+-------------+-------------+------------+--------------+--------------------+--------------------+------------+---------------------------+---------------------+--------------+\n",
      "|id   |amount_tsh|date_recorded      |funder      |gps_height|installer   |longitude  |latitude    |wpt_name            |num_private|basin                  |subvillage|region |region_code|district_code|lga      |ward      |population|public_meeting|recorded_by            |scheme_management|scheme_name                |permit|construction_year|extraction_type|extraction_type_group|extraction_type_class|management|management_group|payment       |payment_type|water_quality|quality_group|quantity    |quantity_group|source              |source_type         |source_class|waterpoint_type            |waterpoint_type_group|status_group  |\n",
      "+-----+----------+-------------------+------------+----------+------------+-----------+------------+--------------------+-----------+-----------------------+----------+-------+-----------+-------------+---------+----------+----------+--------------+-----------------------+-----------------+---------------------------+------+-----------------+---------------+---------------------+---------------------+----------+----------------+--------------+------------+-------------+-------------+------------+--------------+--------------------+--------------------+------------+---------------------------+---------------------+--------------+\n",
      "|69572|6000.0    |2011-03-14 00:00:00|Roman       |1390      |Roman       |34.93809275|-9.85632177 |none                |0          |Lake Nyasa             |Mnyusi B  |Iringa |11         |5            |Ludewa   |Mundindi  |109       |True          |GeoData Consultants Ltd|VWC              |Roman                      |false |1999             |gravity        |gravity              |gravity              |vwc       |user-group      |pay annually  |annually    |soft         |good         |enough      |enough        |spring              |spring              |groundwater |communal standpipe         |communal standpipe   |functional    |\n",
      "|8776 |0.0       |2013-03-06 00:00:00|Grumeti     |1399      |GRUMETI     |34.6987661 |-2.14746569 |Zahanati            |0          |Lake Victoria          |Nyamara   |Mara   |20         |2            |Serengeti|Natta     |280       |null          |GeoData Consultants Ltd|Other            |null                       |true  |2010             |gravity        |gravity              |gravity              |wug       |user-group      |never pay     |never pay   |soft         |good         |insufficient|insufficient  |rainwater harvesting|rainwater harvesting|surface     |communal standpipe         |communal standpipe   |functional    |\n",
      "|34310|25.0      |2013-02-25 00:00:00|Lottery Club|686       |World vision|37.46066446|-3.82132853 |Kwa Mahundi         |0          |Pangani                |Majengo   |Manyara|21         |4            |Simanjiro|Ngorika   |250       |True          |GeoData Consultants Ltd|VWC              |Nyumba ya mungu pipe scheme|true  |2009             |gravity        |gravity              |gravity              |vwc       |user-group      |pay per bucket|per bucket  |soft         |good         |enough      |enough        |dam                 |dam                 |surface     |communal standpipe multiple|communal standpipe   |functional    |\n",
      "|67743|0.0       |2013-01-28 00:00:00|Unicef      |263       |UNICEF      |38.48616088|-11.15529772|Zahanati Ya Nanyumbu|0          |Ruvuma / Southern Coast|Mahakamani|Mtwara |90         |63           |Nanyumbu |Nanyumbu  |58        |True          |GeoData Consultants Ltd|VWC              |null                       |true  |1986             |submersible    |submersible          |submersible          |vwc       |user-group      |never pay     |never pay   |soft         |good         |dry         |dry           |machine dbh         |borehole            |groundwater |communal standpipe multiple|communal standpipe   |non functional|\n",
      "|19728|0.0       |2011-07-13 00:00:00|Action In A |0         |Artisan     |31.13084671|-1.82535885 |Shuleni             |0          |Lake Victoria          |Kyanyamisa|Kagera |18         |1            |Karagwe  |Nyakasimbi|0         |True          |GeoData Consultants Ltd|null             |null                       |true  |0                |gravity        |gravity              |gravity              |other     |other           |never pay     |never pay   |soft         |good         |seasonal    |seasonal      |rainwater harvesting|rainwater harvesting|surface     |communal standpipe         |communal standpipe   |functional    |\n",
      "+-----+----------+-------------------+------------+----------+------------+-----------+------------+--------------------+-----------+-----------------------+----------+-------+-----------+-------------+---------+----------+----------+--------------+-----------------------+-----------------+---------------------------+------+-----------------+---------------+---------------------+---------------------+----------+----------------+--------------+------------+-------------+-------------+------------+--------------+--------------------+--------------------+------------+---------------------------+---------------------+--------------+\n",
      "only showing top 5 rows\n",
      "\n"
     ]
    }
   ],
   "source": [
    "combined_data_df.show(5,truncate=False)"
   ]
  },
  {
   "cell_type": "code",
   "execution_count": 97,
   "metadata": {
    "colab": {
     "base_uri": "https://localhost:8080/",
     "height": 54
    },
    "colab_type": "code",
    "id": "ivSRO24914-T",
    "outputId": "80f24575-eaab-4e91-a1e7-043ce9657f6a"
   },
   "outputs": [
    {
     "data": {
      "text/plain": [
       "DataFrame[id: int, amount_tsh: double, date_recorded: timestamp, funder: string, gps_height: int, installer: string, longitude: double, latitude: double, wpt_name: string, num_private: int, basin: string, subvillage: string, region: string, region_code: int, district_code: int, lga: string, ward: string, population: int, public_meeting: string, recorded_by: string, scheme_management: string, scheme_name: string, permit: boolean, construction_year: int, extraction_type: string, extraction_type_group: string, extraction_type_class: string, management: string, management_group: string, payment: string, payment_type: string, water_quality: string, quality_group: string, quantity: string, quantity_group: string, source: string, source_type: string, source_class: string, waterpoint_type: string, waterpoint_type_group: string, status_group: string]"
      ]
     },
     "execution_count": 97,
     "metadata": {
      "tags": []
     },
     "output_type": "execute_result"
    }
   ],
   "source": [
    "combined_data_df.cache()"
   ]
  },
  {
   "cell_type": "code",
   "execution_count": 0,
   "metadata": {
    "colab": {},
    "colab_type": "code",
    "id": "lswPEv4N148r"
   },
   "outputs": [],
   "source": [
    "### Task5:​ Verify the row counts after the combined Data Frame"
   ]
  },
  {
   "cell_type": "code",
   "execution_count": 99,
   "metadata": {
    "colab": {
     "base_uri": "https://localhost:8080/",
     "height": 34
    },
    "colab_type": "code",
    "id": "NfiwWYTf2KsU",
    "outputId": "979c6552-864f-4b58-b859-339f61482147"
   },
   "outputs": [
    {
     "name": "stdout",
     "output_type": "stream",
     "text": [
      "Number of records in Combined Data Frame is 59400\n"
     ]
    }
   ],
   "source": [
    "print(\"Number of records in Combined Data Frame is\",combined_data_df.count())"
   ]
  },
  {
   "cell_type": "code",
   "execution_count": 0,
   "metadata": {
    "colab": {},
    "colab_type": "code",
    "id": "8lXVadRm2KqO"
   },
   "outputs": [],
   "source": [
    "### Task6:​ Verify the distribution for the target variable using Spark SQL and visualize the distribution using plots "
   ]
  },
  {
   "cell_type": "code",
   "execution_count": 0,
   "metadata": {
    "colab": {},
    "colab_type": "code",
    "id": "5tImde_s4McW"
   },
   "outputs": [],
   "source": [
    "import chart_studio\n",
    "import chart_studio.plotly as py\n",
    "import plotly.graph_objects as go\n",
    "chart_studio.tools.set_credentials_file(username='cvsampath', api_key='6FkvJiWNVtJEHXLSVV9e')"
   ]
  },
  {
   "cell_type": "code",
   "execution_count": 0,
   "metadata": {
    "colab": {},
    "colab_type": "code",
    "id": "ySVN4Rqf2Knn"
   },
   "outputs": [],
   "source": [
    "combined_data_df.createOrReplaceTempView('combined_data_df_Table')"
   ]
  },
  {
   "cell_type": "code",
   "execution_count": 0,
   "metadata": {
    "colab": {},
    "colab_type": "code",
    "id": "Fvby9GrH2u6b"
   },
   "outputs": [],
   "source": [
    "resultDF=spark.sql(\"\"\"\n",
    "Select status_group,count(*) as count from combined_data_df_Table\n",
    "group by status_group\n",
    "order by count desc\n",
    "\"\"\")"
   ]
  },
  {
   "cell_type": "code",
   "execution_count": 104,
   "metadata": {
    "colab": {
     "base_uri": "https://localhost:8080/",
     "height": 153
    },
    "colab_type": "code",
    "id": "gBIJQSBHuCL_",
    "outputId": "2a3f465f-0495-41fc-cce1-2d350512994e"
   },
   "outputs": [
    {
     "name": "stdout",
     "output_type": "stream",
     "text": [
      "+-----------------------+-----+\n",
      "|status_group           |count|\n",
      "+-----------------------+-----+\n",
      "|functional             |32259|\n",
      "|non functional         |22824|\n",
      "|functional needs repair|4317 |\n",
      "+-----------------------+-----+\n",
      "\n"
     ]
    }
   ],
   "source": [
    "resultDF.show(truncate=False)"
   ]
  },
  {
   "cell_type": "code",
   "execution_count": 105,
   "metadata": {
    "colab": {
     "base_uri": "https://localhost:8080/",
     "height": 34
    },
    "colab_type": "code",
    "id": "N2NOnc4u5imZ",
    "outputId": "d3297ce8-c8a2-4374-e0c7-7b4319c8efeb"
   },
   "outputs": [
    {
     "data": {
      "text/plain": [
       "pyspark.sql.dataframe.DataFrame"
      ]
     },
     "execution_count": 105,
     "metadata": {
      "tags": []
     },
     "output_type": "execute_result"
    }
   ],
   "source": [
    "type(resultDF)"
   ]
  },
  {
   "cell_type": "code",
   "execution_count": 106,
   "metadata": {
    "colab": {
     "base_uri": "https://localhost:8080/",
     "height": 546
    },
    "colab_type": "code",
    "id": "1qUZmAVy5iss",
    "outputId": "0ddacfcc-cb4c-4b81-b755-9f99d138ce15"
   },
   "outputs": [
    {
     "data": {
      "text/html": [
       "\n",
       "        <iframe\n",
       "            width=\"100%\"\n",
       "            height=\"525px\"\n",
       "            src=\"https://plot.ly/~cvsampath/1.embed\"\n",
       "            frameborder=\"0\"\n",
       "            allowfullscreen\n",
       "        ></iframe>\n",
       "        "
      ],
      "text/plain": [
       "<IPython.lib.display.IFrame at 0x7f24f678ae48>"
      ]
     },
     "execution_count": 106,
     "metadata": {
      "tags": []
     },
     "output_type": "execute_result"
    }
   ],
   "source": [
    "pdDF = resultDF.toPandas()\n",
    "data = [\n",
    "    go.Bar(\n",
    "        x=pdDF['status_group'], \n",
    "        y=pdDF['count']\n",
    "    )\n",
    "]\n",
    "layout = go.Layout(title='Distribution of Target Variable status_group ')\n",
    "fig = go.Figure(data=data, layout=layout)\n",
    "fig.update_xaxes(title_text='Status Group')\n",
    "fig.update_yaxes(title_text='Count')\n",
    "py.iplot(fig, filename='plot_1')"
   ]
  },
  {
   "cell_type": "code",
   "execution_count": 0,
   "metadata": {
    "colab": {},
    "colab_type": "code",
    "id": "1Ecdf48ZXHeP"
   },
   "outputs": [],
   "source": [
    "### Task7: ​For the categorical variables  ‘construction_year’,’water_quality’,’source_class’,’scheme_management’,’waterpoint_type_group’, find the distribution of these variables with the target variable ​‘status_group’. Visualize​ the data for these data frames. "
   ]
  },
  {
   "cell_type": "code",
   "execution_count": 0,
   "metadata": {
    "colab": {},
    "colab_type": "code",
    "id": "cB3Dq6jyS0Vk"
   },
   "outputs": [],
   "source": [
    "cat_cols=['construction_year','water_quality','source_class','scheme_management','waterpoint_type_group']"
   ]
  },
  {
   "cell_type": "code",
   "execution_count": 109,
   "metadata": {
    "colab": {
     "base_uri": "https://localhost:8080/",
     "height": 719
    },
    "colab_type": "code",
    "id": "epNrbCxg2itg",
    "outputId": "6265fb5c-f322-4253-e4ac-aaa7d36c1d0d"
   },
   "outputs": [
    {
     "name": "stdout",
     "output_type": "stream",
     "text": [
      "+------------------------------+-----+----+----+----+----+----+----+----+----+----+----+----+----+----+----+----+----+----+----+----+----+----+----+----+----+----+----+----+----+----+----+----+----+----+----+----+----+----+----+----+----+----+----+----+----+----+----+----+----+----+----+----+----+----+----+\n",
      "|status_group_construction_year|0    |1960|1961|1962|1963|1964|1965|1966|1967|1968|1969|1970|1971|1972|1973|1974|1975|1976|1977|1978|1979|1980|1981|1982|1983|1984|1985|1986|1987|1988|1989|1990|1991|1992|1993|1994|1995|1996|1997|1998|1999|2000|2001|2002|2003|2004|2005|2006|2007|2008|2009|2010|2011|2012|2013|\n",
      "+------------------------------+-----+----+----+----+----+----+----+----+----+----+----+----+----+----+----+----+----+----+----+----+----+----+----+----+----+----+----+----+----+----+----+----+----+----+----+----+----+----+----+----+----+----+----+----+----+----+----+----+----+----+----+----+----+----+----+\n",
      "|functional                    |10555|24  |2   |7   |31  |7   |11  |6   |31  |22  |15  |99  |82  |178 |55  |234 |144 |85  |62  |426 |41  |258 |85  |236 |187 |365 |324 |212 |143 |245 |165 |466 |141 |361 |285 |380 |593 |386 |291 |542 |694 |1279|331 |692 |828 |704 |578 |883 |1081|1839|1774|2023|943 |726 |102 |\n",
      "|non functional                |8365 |72  |16  |22  |48  |32  |7   |11  |40  |51  |41  |297 |57  |462 |121 |403 |252 |277 |130 |514 |139 |493 |142 |454 |280 |348 |537 |188 |122 |234 |137 |429 |166 |238 |289 |315 |346 |377 |286 |337 |238 |676 |172 |325 |387 |349 |344 |453 |390 |647 |621 |532 |235 |307 |73  |\n",
      "|functional needs repair       |1789 |6   |3   |1   |6   |1   |1   |0   |17  |4   |3   |15  |6   |68  |8   |39  |41  |52  |10  |97  |12  |60  |11  |54  |21  |66  |84  |34  |37  |42  |14  |59  |17  |41  |34  |43  |75  |48  |67  |87  |47  |136 |37  |58  |71  |70  |89  |135 |116 |127 |138 |90  |78  |51  |1   |\n",
      "+------------------------------+-----+----+----+----+----+----+----+----+----+----+----+----+----+----+----+----+----+----+----+----+----+----+----+----+----+----+----+----+----+----+----+----+----+----+----+----+----+----+----+----+----+----+----+----+----+----+----+----+----+----+----+----+----+----+----+\n",
      "\n",
      "Number of unique levels in CONSTRUCTION YEAR = 55\n"
     ]
    },
    {
     "data": {
      "text/html": [
       "\n",
       "        <iframe\n",
       "            width=\"100%\"\n",
       "            height=\"525px\"\n",
       "            src=\"https://plot.ly/~cvsampath/9.embed\"\n",
       "            frameborder=\"0\"\n",
       "            allowfullscreen\n",
       "        ></iframe>\n",
       "        "
      ],
      "text/plain": [
       "<IPython.lib.display.IFrame at 0x7f24fa96cb38>"
      ]
     },
     "execution_count": 109,
     "metadata": {
      "tags": []
     },
     "output_type": "execute_result"
    }
   ],
   "source": [
    "col1='status_group'\n",
    "col2=cat_cols[0]\n",
    "crosstab_df=combined_data_df.crosstab(col1,col2)\n",
    "crosstab_df.show(truncate=False)\n",
    "cols=list(crosstab_df.toPandas().columns[1:])\n",
    "print(\"Number of unique levels in \"+col2.replace('_',' ').upper()+\" =\",len(cols))\n",
    "status_grp=list(crosstab_df.toPandas()[crosstab_df.toPandas().columns[0]])\n",
    "\n",
    "fig = go.Figure(data=[\n",
    "    #go.Bar(name=cols[0], x=status_grp, y=list(crosstab_df.toPandas()[cols[0]])),\n",
    "    go.Bar(name=cols[1], x=status_grp, y=list(crosstab_df.toPandas()[cols[1]])),\n",
    "    go.Bar(name=cols[2], x=status_grp, y=list(crosstab_df.toPandas()[cols[2]])),\n",
    "    go.Bar(name=cols[3], x=status_grp, y=list(crosstab_df.toPandas()[cols[3]])),\n",
    "    go.Bar(name=cols[4], x=status_grp, y=list(crosstab_df.toPandas()[cols[4]])),\n",
    "    go.Bar(name=cols[5], x=status_grp, y=list(crosstab_df.toPandas()[cols[5]])),\n",
    "    go.Bar(name=cols[6], x=status_grp, y=list(crosstab_df.toPandas()[cols[6]])),\n",
    "    go.Bar(name=cols[7], x=status_grp, y=list(crosstab_df.toPandas()[cols[7]])),\n",
    "    go.Bar(name=cols[8], x=status_grp, y=list(crosstab_df.toPandas()[cols[8]])),\n",
    "    go.Bar(name=cols[9], x=status_grp, y=list(crosstab_df.toPandas()[cols[9]])),\n",
    "    go.Bar(name=cols[10], x=status_grp, y=list(crosstab_df.toPandas()[cols[10]])),\n",
    "    go.Bar(name=cols[11], x=status_grp, y=list(crosstab_df.toPandas()[cols[11]])),\n",
    "    go.Bar(name=cols[12], x=status_grp, y=list(crosstab_df.toPandas()[cols[12]])),\n",
    "    go.Bar(name=cols[13], x=status_grp, y=list(crosstab_df.toPandas()[cols[13]])),\n",
    "    go.Bar(name=cols[14], x=status_grp, y=list(crosstab_df.toPandas()[cols[14]])),\n",
    "    go.Bar(name=cols[15], x=status_grp, y=list(crosstab_df.toPandas()[cols[15]])),\n",
    "    go.Bar(name=cols[16], x=status_grp, y=list(crosstab_df.toPandas()[cols[16]])),\n",
    "    go.Bar(name=cols[17], x=status_grp, y=list(crosstab_df.toPandas()[cols[17]])),\n",
    "    go.Bar(name=cols[18], x=status_grp, y=list(crosstab_df.toPandas()[cols[18]])),\n",
    "    go.Bar(name=cols[19], x=status_grp, y=list(crosstab_df.toPandas()[cols[19]])),\n",
    "    go.Bar(name=cols[20], x=status_grp, y=list(crosstab_df.toPandas()[cols[20]])),\n",
    "    go.Bar(name=cols[21], x=status_grp, y=list(crosstab_df.toPandas()[cols[21]])),\n",
    "    go.Bar(name=cols[22], x=status_grp, y=list(crosstab_df.toPandas()[cols[22]])),\n",
    "    go.Bar(name=cols[23], x=status_grp, y=list(crosstab_df.toPandas()[cols[23]])),\n",
    "    go.Bar(name=cols[24], x=status_grp, y=list(crosstab_df.toPandas()[cols[24]])),\n",
    "    go.Bar(name=cols[25], x=status_grp, y=list(crosstab_df.toPandas()[cols[25]])),\n",
    "    go.Bar(name=cols[26], x=status_grp, y=list(crosstab_df.toPandas()[cols[26]])),\n",
    "    go.Bar(name=cols[27], x=status_grp, y=list(crosstab_df.toPandas()[cols[27]])),\n",
    "    go.Bar(name=cols[28], x=status_grp, y=list(crosstab_df.toPandas()[cols[28]])),\n",
    "    go.Bar(name=cols[29], x=status_grp, y=list(crosstab_df.toPandas()[cols[29]])),\n",
    "    go.Bar(name=cols[30], x=status_grp, y=list(crosstab_df.toPandas()[cols[30]])),\n",
    "    go.Bar(name=cols[31], x=status_grp, y=list(crosstab_df.toPandas()[cols[31]])),\n",
    "    go.Bar(name=cols[32], x=status_grp, y=list(crosstab_df.toPandas()[cols[32]])),\n",
    "    go.Bar(name=cols[33], x=status_grp, y=list(crosstab_df.toPandas()[cols[33]])),\n",
    "    go.Bar(name=cols[34], x=status_grp, y=list(crosstab_df.toPandas()[cols[34]])),\n",
    "    go.Bar(name=cols[35], x=status_grp, y=list(crosstab_df.toPandas()[cols[35]])),\n",
    "    go.Bar(name=cols[36], x=status_grp, y=list(crosstab_df.toPandas()[cols[36]])),\n",
    "    go.Bar(name=cols[37], x=status_grp, y=list(crosstab_df.toPandas()[cols[37]])),\n",
    "    go.Bar(name=cols[38], x=status_grp, y=list(crosstab_df.toPandas()[cols[38]])),\n",
    "    go.Bar(name=cols[39], x=status_grp, y=list(crosstab_df.toPandas()[cols[39]])),\n",
    "    go.Bar(name=cols[40], x=status_grp, y=list(crosstab_df.toPandas()[cols[40]])),\n",
    "    go.Bar(name=cols[41], x=status_grp, y=list(crosstab_df.toPandas()[cols[41]])),\n",
    "    go.Bar(name=cols[42], x=status_grp, y=list(crosstab_df.toPandas()[cols[42]])),\n",
    "    go.Bar(name=cols[43], x=status_grp, y=list(crosstab_df.toPandas()[cols[43]])),\n",
    "    go.Bar(name=cols[44], x=status_grp, y=list(crosstab_df.toPandas()[cols[44]])),\n",
    "    go.Bar(name=cols[45], x=status_grp, y=list(crosstab_df.toPandas()[cols[45]])),\n",
    "    go.Bar(name=cols[46], x=status_grp, y=list(crosstab_df.toPandas()[cols[46]])),\n",
    "    go.Bar(name=cols[47], x=status_grp, y=list(crosstab_df.toPandas()[cols[47]])),\n",
    "    go.Bar(name=cols[48], x=status_grp, y=list(crosstab_df.toPandas()[cols[48]])),\n",
    "    go.Bar(name=cols[49], x=status_grp, y=list(crosstab_df.toPandas()[cols[49]])),\n",
    "    go.Bar(name=cols[50], x=status_grp, y=list(crosstab_df.toPandas()[cols[50]])),\n",
    "    go.Bar(name=cols[51], x=status_grp, y=list(crosstab_df.toPandas()[cols[51]])),\n",
    "    go.Bar(name=cols[52], x=status_grp, y=list(crosstab_df.toPandas()[cols[52]])),\n",
    "    go.Bar(name=cols[53], x=status_grp, y=list(crosstab_df.toPandas()[cols[53]])),\n",
    "    go.Bar(name=cols[54], x=status_grp, y=list(crosstab_df.toPandas()[cols[54]]))\n",
    "])\n",
    "\n",
    "\n",
    "fig.update_layout(title_text=\"Distribution of \"+col2.replace('_',' ').upper()+\" with \"+col1.replace('_',' ').upper(),barmode='group')\n",
    "fig.update_xaxes(title_text=col1.replace('_',' ').upper())\n",
    "fig.update_yaxes(title_text='Count'.upper())\n",
    "py.iplot(fig, filename='plot_2')"
   ]
  },
  {
   "cell_type": "code",
   "execution_count": 110,
   "metadata": {
    "colab": {
     "base_uri": "https://localhost:8080/",
     "height": 719
    },
    "colab_type": "code",
    "id": "-L1q-Mn3XD1R",
    "outputId": "59d0cf10-7954-4073-bc75-d188aa52bdc5"
   },
   "outputs": [
    {
     "name": "stdout",
     "output_type": "stream",
     "text": [
      "+------------------------------+-----+----+----+----+----+----+----+----+----+----+----+----+----+----+----+----+----+----+----+----+----+----+----+----+----+----+----+----+----+----+----+----+----+----+----+----+----+----+----+----+----+----+----+----+----+----+----+----+----+----+----+----+----+----+----+\n",
      "|status_group_construction_year|0    |1960|1961|1962|1963|1964|1965|1966|1967|1968|1969|1970|1971|1972|1973|1974|1975|1976|1977|1978|1979|1980|1981|1982|1983|1984|1985|1986|1987|1988|1989|1990|1991|1992|1993|1994|1995|1996|1997|1998|1999|2000|2001|2002|2003|2004|2005|2006|2007|2008|2009|2010|2011|2012|2013|\n",
      "+------------------------------+-----+----+----+----+----+----+----+----+----+----+----+----+----+----+----+----+----+----+----+----+----+----+----+----+----+----+----+----+----+----+----+----+----+----+----+----+----+----+----+----+----+----+----+----+----+----+----+----+----+----+----+----+----+----+----+\n",
      "|functional                    |10555|24  |2   |7   |31  |7   |11  |6   |31  |22  |15  |99  |82  |178 |55  |234 |144 |85  |62  |426 |41  |258 |85  |236 |187 |365 |324 |212 |143 |245 |165 |466 |141 |361 |285 |380 |593 |386 |291 |542 |694 |1279|331 |692 |828 |704 |578 |883 |1081|1839|1774|2023|943 |726 |102 |\n",
      "|non functional                |8365 |72  |16  |22  |48  |32  |7   |11  |40  |51  |41  |297 |57  |462 |121 |403 |252 |277 |130 |514 |139 |493 |142 |454 |280 |348 |537 |188 |122 |234 |137 |429 |166 |238 |289 |315 |346 |377 |286 |337 |238 |676 |172 |325 |387 |349 |344 |453 |390 |647 |621 |532 |235 |307 |73  |\n",
      "|functional needs repair       |1789 |6   |3   |1   |6   |1   |1   |0   |17  |4   |3   |15  |6   |68  |8   |39  |41  |52  |10  |97  |12  |60  |11  |54  |21  |66  |84  |34  |37  |42  |14  |59  |17  |41  |34  |43  |75  |48  |67  |87  |47  |136 |37  |58  |71  |70  |89  |135 |116 |127 |138 |90  |78  |51  |1   |\n",
      "+------------------------------+-----+----+----+----+----+----+----+----+----+----+----+----+----+----+----+----+----+----+----+----+----+----+----+----+----+----+----+----+----+----+----+----+----+----+----+----+----+----+----+----+----+----+----+----+----+----+----+----+----+----+----+----+----+----+----+\n",
      "\n",
      "Number of unique levels in CONSTRUCTION YEAR = 55\n"
     ]
    },
    {
     "data": {
      "text/html": [
       "\n",
       "        <iframe\n",
       "            width=\"100%\"\n",
       "            height=\"525px\"\n",
       "            src=\"https://plot.ly/~cvsampath/18.embed\"\n",
       "            frameborder=\"0\"\n",
       "            allowfullscreen\n",
       "        ></iframe>\n",
       "        "
      ],
      "text/plain": [
       "<IPython.lib.display.IFrame at 0x7f24fa9a2b00>"
      ]
     },
     "execution_count": 110,
     "metadata": {
      "tags": []
     },
     "output_type": "execute_result"
    }
   ],
   "source": [
    "col1='status_group'\n",
    "col2=cat_cols[0]\n",
    "crosstab_df=combined_data_df.crosstab(col1,col2)\n",
    "crosstab_df.show(truncate=False)\n",
    "cols=list(crosstab_df.toPandas().columns[1:])\n",
    "print(\"Number of unique levels in \"+col2.replace('_',' ').upper()+\" =\",len(cols))\n",
    "status_grp=list(crosstab_df.toPandas()[crosstab_df.toPandas().columns[0]])\n",
    "\n",
    "fig = go.Figure(data=[\n",
    "    go.Bar(name=cols[0], x=status_grp, y=list(crosstab_df.toPandas()[cols[0]])),\n",
    "    go.Bar(name=cols[1], x=status_grp, y=list(crosstab_df.toPandas()[cols[1]])),\n",
    "    go.Bar(name=cols[2], x=status_grp, y=list(crosstab_df.toPandas()[cols[2]])),\n",
    "    go.Bar(name=cols[3], x=status_grp, y=list(crosstab_df.toPandas()[cols[3]])),\n",
    "    go.Bar(name=cols[4], x=status_grp, y=list(crosstab_df.toPandas()[cols[4]])),\n",
    "    go.Bar(name=cols[5], x=status_grp, y=list(crosstab_df.toPandas()[cols[5]])),\n",
    "    go.Bar(name=cols[6], x=status_grp, y=list(crosstab_df.toPandas()[cols[6]])),\n",
    "    go.Bar(name=cols[7], x=status_grp, y=list(crosstab_df.toPandas()[cols[7]])),\n",
    "    go.Bar(name=cols[8], x=status_grp, y=list(crosstab_df.toPandas()[cols[8]])),\n",
    "    go.Bar(name=cols[9], x=status_grp, y=list(crosstab_df.toPandas()[cols[9]])),\n",
    "    go.Bar(name=cols[10], x=status_grp, y=list(crosstab_df.toPandas()[cols[10]])),\n",
    "    go.Bar(name=cols[11], x=status_grp, y=list(crosstab_df.toPandas()[cols[11]])),\n",
    "    go.Bar(name=cols[12], x=status_grp, y=list(crosstab_df.toPandas()[cols[12]])),\n",
    "    go.Bar(name=cols[13], x=status_grp, y=list(crosstab_df.toPandas()[cols[13]])),\n",
    "    go.Bar(name=cols[14], x=status_grp, y=list(crosstab_df.toPandas()[cols[14]])),\n",
    "    go.Bar(name=cols[15], x=status_grp, y=list(crosstab_df.toPandas()[cols[15]])),\n",
    "    go.Bar(name=cols[16], x=status_grp, y=list(crosstab_df.toPandas()[cols[16]])),\n",
    "    go.Bar(name=cols[17], x=status_grp, y=list(crosstab_df.toPandas()[cols[17]])),\n",
    "    go.Bar(name=cols[18], x=status_grp, y=list(crosstab_df.toPandas()[cols[18]])),\n",
    "    go.Bar(name=cols[19], x=status_grp, y=list(crosstab_df.toPandas()[cols[19]])),\n",
    "    go.Bar(name=cols[20], x=status_grp, y=list(crosstab_df.toPandas()[cols[20]])),\n",
    "    go.Bar(name=cols[21], x=status_grp, y=list(crosstab_df.toPandas()[cols[21]])),\n",
    "    go.Bar(name=cols[22], x=status_grp, y=list(crosstab_df.toPandas()[cols[22]])),\n",
    "    go.Bar(name=cols[23], x=status_grp, y=list(crosstab_df.toPandas()[cols[23]])),\n",
    "    go.Bar(name=cols[24], x=status_grp, y=list(crosstab_df.toPandas()[cols[24]])),\n",
    "    go.Bar(name=cols[25], x=status_grp, y=list(crosstab_df.toPandas()[cols[25]])),\n",
    "    go.Bar(name=cols[26], x=status_grp, y=list(crosstab_df.toPandas()[cols[26]])),\n",
    "    go.Bar(name=cols[27], x=status_grp, y=list(crosstab_df.toPandas()[cols[27]])),\n",
    "    go.Bar(name=cols[28], x=status_grp, y=list(crosstab_df.toPandas()[cols[28]])),\n",
    "    go.Bar(name=cols[29], x=status_grp, y=list(crosstab_df.toPandas()[cols[29]])),\n",
    "    go.Bar(name=cols[30], x=status_grp, y=list(crosstab_df.toPandas()[cols[30]])),\n",
    "    go.Bar(name=cols[31], x=status_grp, y=list(crosstab_df.toPandas()[cols[31]])),\n",
    "    go.Bar(name=cols[32], x=status_grp, y=list(crosstab_df.toPandas()[cols[32]])),\n",
    "    go.Bar(name=cols[33], x=status_grp, y=list(crosstab_df.toPandas()[cols[33]])),\n",
    "    go.Bar(name=cols[34], x=status_grp, y=list(crosstab_df.toPandas()[cols[34]])),\n",
    "    go.Bar(name=cols[35], x=status_grp, y=list(crosstab_df.toPandas()[cols[35]])),\n",
    "    go.Bar(name=cols[36], x=status_grp, y=list(crosstab_df.toPandas()[cols[36]])),\n",
    "    go.Bar(name=cols[37], x=status_grp, y=list(crosstab_df.toPandas()[cols[37]])),\n",
    "    go.Bar(name=cols[38], x=status_grp, y=list(crosstab_df.toPandas()[cols[38]])),\n",
    "    go.Bar(name=cols[39], x=status_grp, y=list(crosstab_df.toPandas()[cols[39]])),\n",
    "    go.Bar(name=cols[40], x=status_grp, y=list(crosstab_df.toPandas()[cols[40]])),\n",
    "    go.Bar(name=cols[41], x=status_grp, y=list(crosstab_df.toPandas()[cols[41]])),\n",
    "    go.Bar(name=cols[42], x=status_grp, y=list(crosstab_df.toPandas()[cols[42]])),\n",
    "    go.Bar(name=cols[43], x=status_grp, y=list(crosstab_df.toPandas()[cols[43]])),\n",
    "    go.Bar(name=cols[44], x=status_grp, y=list(crosstab_df.toPandas()[cols[44]])),\n",
    "    go.Bar(name=cols[45], x=status_grp, y=list(crosstab_df.toPandas()[cols[45]])),\n",
    "    go.Bar(name=cols[46], x=status_grp, y=list(crosstab_df.toPandas()[cols[46]])),\n",
    "    go.Bar(name=cols[47], x=status_grp, y=list(crosstab_df.toPandas()[cols[47]])),\n",
    "    go.Bar(name=cols[48], x=status_grp, y=list(crosstab_df.toPandas()[cols[48]])),\n",
    "    go.Bar(name=cols[49], x=status_grp, y=list(crosstab_df.toPandas()[cols[49]])),\n",
    "    go.Bar(name=cols[50], x=status_grp, y=list(crosstab_df.toPandas()[cols[50]])),\n",
    "    go.Bar(name=cols[51], x=status_grp, y=list(crosstab_df.toPandas()[cols[51]])),\n",
    "    go.Bar(name=cols[52], x=status_grp, y=list(crosstab_df.toPandas()[cols[52]])),\n",
    "    go.Bar(name=cols[53], x=status_grp, y=list(crosstab_df.toPandas()[cols[53]])),\n",
    "    go.Bar(name=cols[54], x=status_grp, y=list(crosstab_df.toPandas()[cols[54]]))\n",
    "])\n",
    "\n",
    "\n",
    "fig.update_layout(title_text=\"Distribution of \"+col2.replace('_',' ').upper()+\" with \"+col1.replace('_',' ').upper(),barmode='group')\n",
    "fig.update_xaxes(title_text=col1.replace('_',' ').upper())\n",
    "fig.update_yaxes(title_text='Count'.upper())\n",
    "py.iplot(fig, filename='plot_3')"
   ]
  },
  {
   "cell_type": "code",
   "execution_count": 111,
   "metadata": {
    "colab": {
     "base_uri": "https://localhost:8080/",
     "height": 699
    },
    "colab_type": "code",
    "id": "pwBP3AGNwWr2",
    "outputId": "e2564d30-6b5e-4b68-f34a-eafbe2f56ff2"
   },
   "outputs": [
    {
     "name": "stdout",
     "output_type": "stream",
     "text": [
      "+--------------------------+--------+--------+------------------+-----+-----+---------------+-----+-------+\n",
      "|status_group_water_quality|coloured|fluoride|fluoride abandoned|milky|salty|salty abandoned|soft |unknown|\n",
      "+--------------------------+--------+--------+------------------+-----+-----+---------------+-----+-------+\n",
      "|functional                |246     |151     |6                 |438  |2220 |174            |28760|264    |\n",
      "|non functional            |190     |36      |11                |352  |2411 |93             |18154|1577   |\n",
      "|functional needs repair   |54      |13      |0                 |14   |225  |72             |3904 |35     |\n",
      "+--------------------------+--------+--------+------------------+-----+-----+---------------+-----+-------+\n",
      "\n",
      "Number of unique levels in WATER QUALITY = 8\n"
     ]
    },
    {
     "data": {
      "text/html": [
       "\n",
       "        <iframe\n",
       "            width=\"100%\"\n",
       "            height=\"525px\"\n",
       "            src=\"https://plot.ly/~cvsampath/23.embed\"\n",
       "            frameborder=\"0\"\n",
       "            allowfullscreen\n",
       "        ></iframe>\n",
       "        "
      ],
      "text/plain": [
       "<IPython.lib.display.IFrame at 0x7f24f65c7748>"
      ]
     },
     "execution_count": 111,
     "metadata": {
      "tags": []
     },
     "output_type": "execute_result"
    }
   ],
   "source": [
    "col1='status_group'\n",
    "col2=cat_cols[1]\n",
    "crosstab_df=combined_data_df.crosstab(col1,col2)\n",
    "crosstab_df.show(truncate=False)\n",
    "cols=list(crosstab_df.toPandas().columns[1:])\n",
    "print(\"Number of unique levels in \"+col2.replace('_',' ').upper()+\" =\",len(cols))\n",
    "status_grp=list(crosstab_df.toPandas()[crosstab_df.toPandas().columns[0]])\n",
    "\n",
    "fig = go.Figure(data=[\n",
    "    go.Bar(name=cols[0], x=status_grp, y=list(crosstab_df.toPandas()[cols[0]])),\n",
    "    go.Bar(name=cols[1], x=status_grp, y=list(crosstab_df.toPandas()[cols[1]])),\n",
    "    go.Bar(name=cols[2], x=status_grp, y=list(crosstab_df.toPandas()[cols[2]])),\n",
    "    go.Bar(name=cols[3], x=status_grp, y=list(crosstab_df.toPandas()[cols[3]])),\n",
    "    go.Bar(name=cols[4], x=status_grp, y=list(crosstab_df.toPandas()[cols[4]])),\n",
    "    go.Bar(name=cols[5], x=status_grp, y=list(crosstab_df.toPandas()[cols[5]])),\n",
    "    go.Bar(name=cols[6], x=status_grp, y=list(crosstab_df.toPandas()[cols[6]])),\n",
    "    go.Bar(name=cols[7], x=status_grp, y=list(crosstab_df.toPandas()[cols[7]])),\n",
    "])\n",
    "\n",
    "\n",
    "fig.update_layout(title_text=\"Distribution of \"+col2.replace('_',' ').upper()+\" with \"+col1.replace('_',' ').upper(),barmode='group')\n",
    "fig.update_xaxes(title_text=col1.replace('_',' ').upper())\n",
    "fig.update_yaxes(title_text='Count'.upper())\n",
    "py.iplot(fig, filename='plot_4')"
   ]
  },
  {
   "cell_type": "code",
   "execution_count": 112,
   "metadata": {
    "colab": {
     "base_uri": "https://localhost:8080/",
     "height": 699
    },
    "colab_type": "code",
    "id": "23ZB6PTmwWmH",
    "outputId": "e8b4915f-ece3-4163-e9cd-820eec31973f"
   },
   "outputs": [
    {
     "name": "stdout",
     "output_type": "stream",
     "text": [
      "+-------------------------+-----------+-------+-------+\n",
      "|status_group_source_class|groundwater|surface|unknown|\n",
      "+-------------------------+-----------+-------+-------+\n",
      "|functional               |24835      |7266   |158    |\n",
      "|non functional           |18218      |4491   |115    |\n",
      "|functional needs repair  |2741       |1571   |5      |\n",
      "+-------------------------+-----------+-------+-------+\n",
      "\n",
      "Number of unique levels in SOURCE CLASS = 3\n"
     ]
    },
    {
     "data": {
      "text/html": [
       "\n",
       "        <iframe\n",
       "            width=\"100%\"\n",
       "            height=\"525px\"\n",
       "            src=\"https://plot.ly/~cvsampath/25.embed\"\n",
       "            frameborder=\"0\"\n",
       "            allowfullscreen\n",
       "        ></iframe>\n",
       "        "
      ],
      "text/plain": [
       "<IPython.lib.display.IFrame at 0x7f24f8c15d68>"
      ]
     },
     "execution_count": 112,
     "metadata": {
      "tags": []
     },
     "output_type": "execute_result"
    }
   ],
   "source": [
    "col1='status_group'\n",
    "col2=cat_cols[2]\n",
    "crosstab_df=combined_data_df.crosstab(col1,col2)\n",
    "crosstab_df.show(truncate=False)\n",
    "cols=list(crosstab_df.toPandas().columns[1:])\n",
    "print(\"Number of unique levels in \"+col2.replace('_',' ').upper()+\" =\",len(cols))\n",
    "status_grp=list(crosstab_df.toPandas()[crosstab_df.toPandas().columns[0]])\n",
    "\n",
    "fig = go.Figure(data=[\n",
    "    go.Bar(name=cols[0], x=status_grp, y=list(crosstab_df.toPandas()[cols[0]])),\n",
    "    go.Bar(name=cols[1], x=status_grp, y=list(crosstab_df.toPandas()[cols[1]])),\n",
    "    go.Bar(name=cols[2], x=status_grp, y=list(crosstab_df.toPandas()[cols[2]])),\n",
    "    \n",
    "])\n",
    "\n",
    "\n",
    "fig.update_layout(title_text=\"Distribution of \"+col2.replace('_',' ').upper()+\" with \"+col1.replace('_',' ').upper(),barmode='group')\n",
    "fig.update_xaxes(title_text=col1.replace('_',' ').upper())\n",
    "fig.update_yaxes(title_text='Count'.upper())\n",
    "py.iplot(fig, filename='plot_5')"
   ]
  },
  {
   "cell_type": "code",
   "execution_count": 113,
   "metadata": {
    "colab": {
     "base_uri": "https://localhost:8080/",
     "height": 719
    },
    "colab_type": "code",
    "id": "FPlAjUc_V0rc",
    "outputId": "0f2f16db-b001-4b2e-a201-e6bba78e5464"
   },
   "outputs": [
    {
     "name": "stdout",
     "output_type": "stream",
     "text": [
      "+------------------------------+-------+----+-----+----------+----------------+---+-----+-----+----+----+-----------+---------------+----+\n",
      "|status_group_scheme_management|Company|None|Other|Parastatal|Private operator|SWC|Trust|VWC  |WUA |WUG |Water Board|Water authority|null|\n",
      "+------------------------------+-------+----+-----+----------+----------------+---+-----+-----+----+----+-----------+---------------+----+\n",
      "|functional                    |534    |1   |458  |966       |729             |20 |46   |18960|1995|3006|2053       |1618           |1873|\n",
      "|non functional                |490    |0   |286  |512       |311             |76 |21   |15499|649 |1528|584        |1087           |1781|\n",
      "|functional needs repair       |37     |0   |22   |202       |23              |1  |5    |2334 |239 |672 |111        |448            |223 |\n",
      "+------------------------------+-------+----+-----+----------+----------------+---+-----+-----+----+----+-----------+---------------+----+\n",
      "\n",
      "Number of unique levels in SCHEME MANAGEMENT = 13\n"
     ]
    },
    {
     "data": {
      "text/html": [
       "\n",
       "        <iframe\n",
       "            width=\"100%\"\n",
       "            height=\"525px\"\n",
       "            src=\"https://plot.ly/~cvsampath/27.embed\"\n",
       "            frameborder=\"0\"\n",
       "            allowfullscreen\n",
       "        ></iframe>\n",
       "        "
      ],
      "text/plain": [
       "<IPython.lib.display.IFrame at 0x7f24f7f93c50>"
      ]
     },
     "execution_count": 113,
     "metadata": {
      "tags": []
     },
     "output_type": "execute_result"
    }
   ],
   "source": [
    "col1='status_group'\n",
    "col2=cat_cols[3]\n",
    "crosstab_df=combined_data_df.crosstab(col1,col2)\n",
    "crosstab_df.show(truncate=False)\n",
    "cols=list(crosstab_df.toPandas().columns[1:])\n",
    "print(\"Number of unique levels in \"+col2.replace('_',' ').upper()+\" =\",len(cols))\n",
    "status_grp=list(crosstab_df.toPandas()[crosstab_df.toPandas().columns[0]])\n",
    "\n",
    "fig = go.Figure(data=[\n",
    "    go.Bar(name=cols[0], x=status_grp, y=list(crosstab_df.toPandas()[cols[0]])),\n",
    "    go.Bar(name=cols[1], x=status_grp, y=list(crosstab_df.toPandas()[cols[1]])),\n",
    "    go.Bar(name=cols[2], x=status_grp, y=list(crosstab_df.toPandas()[cols[2]])),\n",
    "    go.Bar(name=cols[3], x=status_grp, y=list(crosstab_df.toPandas()[cols[3]])),\n",
    "    go.Bar(name=cols[4], x=status_grp, y=list(crosstab_df.toPandas()[cols[4]])),\n",
    "    go.Bar(name=cols[5], x=status_grp, y=list(crosstab_df.toPandas()[cols[5]])),\n",
    "    go.Bar(name=cols[6], x=status_grp, y=list(crosstab_df.toPandas()[cols[6]])),\n",
    "    go.Bar(name=cols[7], x=status_grp, y=list(crosstab_df.toPandas()[cols[7]])),\n",
    "    go.Bar(name=cols[8], x=status_grp, y=list(crosstab_df.toPandas()[cols[8]])),\n",
    "    go.Bar(name=cols[9], x=status_grp, y=list(crosstab_df.toPandas()[cols[9]])),\n",
    "    go.Bar(name=cols[10], x=status_grp, y=list(crosstab_df.toPandas()[cols[10]])),\n",
    "    go.Bar(name=cols[11], x=status_grp, y=list(crosstab_df.toPandas()[cols[11]])),\n",
    "    go.Bar(name=cols[12], x=status_grp, y=list(crosstab_df.toPandas()[cols[12]])),\n",
    "    \n",
    "])\n",
    "\n",
    "fig.update_layout(title_text=\"Distribution of \"+col2.replace('_',' ').upper()+\" with \"+col1.replace('_',' ').upper(),barmode='group')\n",
    "fig.update_xaxes(title_text=col1.replace('_',' ').upper())\n",
    "fig.update_yaxes(title_text='Count'.upper())\n",
    "py.iplot(fig, filename='plot_6')"
   ]
  },
  {
   "cell_type": "code",
   "execution_count": 114,
   "metadata": {
    "colab": {
     "base_uri": "https://localhost:8080/",
     "height": 699
    },
    "colab_type": "code",
    "id": "xDmSvsBWV0oL",
    "outputId": "e694461a-5941-4ac8-c3d5-f882a6f13f0a"
   },
   "outputs": [
    {
     "name": "stdout",
     "output_type": "stream",
     "text": [
      "+----------------------------------+-------------+------------------+---+---------+---------------+-----+\n",
      "|status_group_waterpoint_type_group|cattle trough|communal standpipe|dam|hand pump|improved spring|other|\n",
      "+----------------------------------+-------------+------------------+---+---------+---------------+-----+\n",
      "|functional                        |84           |19961             |6  |10805    |563            |840  |\n",
      "|non functional                    |30           |11756             |1  |5654     |136            |5247 |\n",
      "|functional needs repair           |2            |2908              |0  |1029     |85             |293  |\n",
      "+----------------------------------+-------------+------------------+---+---------+---------------+-----+\n",
      "\n",
      "Number of unique levels in WATERPOINT TYPE GROUP = 6\n"
     ]
    },
    {
     "data": {
      "text/html": [
       "\n",
       "        <iframe\n",
       "            width=\"100%\"\n",
       "            height=\"525px\"\n",
       "            src=\"https://plot.ly/~cvsampath/29.embed\"\n",
       "            frameborder=\"0\"\n",
       "            allowfullscreen\n",
       "        ></iframe>\n",
       "        "
      ],
      "text/plain": [
       "<IPython.lib.display.IFrame at 0x7f24f9a0b198>"
      ]
     },
     "execution_count": 114,
     "metadata": {
      "tags": []
     },
     "output_type": "execute_result"
    }
   ],
   "source": [
    "col1='status_group'\n",
    "col2=cat_cols[4]\n",
    "crosstab_df=combined_data_df.crosstab(col1,col2)\n",
    "crosstab_df.show(truncate=False)\n",
    "cols=list(crosstab_df.toPandas().columns[1:])\n",
    "print(\"Number of unique levels in \"+col2.replace('_',' ').upper()+\" =\",len(cols))\n",
    "status_grp=list(crosstab_df.toPandas()[crosstab_df.toPandas().columns[0]])\n",
    "\n",
    "fig = go.Figure(data=[\n",
    "    go.Bar(name=cols[0], x=status_grp, y=list(crosstab_df.toPandas()[cols[0]])),\n",
    "    go.Bar(name=cols[1], x=status_grp, y=list(crosstab_df.toPandas()[cols[1]])),\n",
    "    go.Bar(name=cols[2], x=status_grp, y=list(crosstab_df.toPandas()[cols[2]])),\n",
    "    go.Bar(name=cols[3], x=status_grp, y=list(crosstab_df.toPandas()[cols[3]])),\n",
    "    go.Bar(name=cols[4], x=status_grp, y=list(crosstab_df.toPandas()[cols[4]])),\n",
    "    go.Bar(name=cols[5], x=status_grp, y=list(crosstab_df.toPandas()[cols[5]])),\n",
    "    \n",
    "])\n",
    "\n",
    "\n",
    "fig.update_layout(title_text=\"Distribution of \"+col2.replace('_',' ').upper()+\" with \"+col1.replace('_',' ').upper(),barmode='group')\n",
    "fig.update_xaxes(title_text=col1.replace('_',' ').upper())\n",
    "fig.update_yaxes(title_text='Count'.upper())\n",
    "py.iplot(fig, filename='plot_7')"
   ]
  },
  {
   "cell_type": "code",
   "execution_count": 0,
   "metadata": {
    "colab": {},
    "colab_type": "code",
    "id": "X6tnAHhiWv3S"
   },
   "outputs": [],
   "source": [
    "### Task8: ​Create new columns year,date and month from the existing date column on the dataframe. Use this new dataframe for further data analysis"
   ]
  },
  {
   "cell_type": "code",
   "execution_count": 0,
   "metadata": {
    "colab": {},
    "colab_type": "code",
    "id": "QAtSMd6Ye-d8"
   },
   "outputs": [],
   "source": [
    "import datetime\n",
    "from pyspark.sql.functions import year, month, dayofmonth\n",
    "combined_data_df=combined_data_df.withColumn(\"Year\",year(\"date_recorded\").alias('year'))"
   ]
  },
  {
   "cell_type": "code",
   "execution_count": 117,
   "metadata": {
    "colab": {
     "base_uri": "https://localhost:8080/",
     "height": 173
    },
    "colab_type": "code",
    "id": "-ts86Qm5iJ-z",
    "outputId": "e028c026-e2df-41c1-b315-8f2539ae06ca"
   },
   "outputs": [
    {
     "name": "stdout",
     "output_type": "stream",
     "text": [
      "+-----+----------+-------------------+-------+----------+---------+-----------+-----------+--------+-----------+-------------+----------+------+-----------+-------------+---------+--------+----------+--------------+--------------------+-----------------+-----------+------+-----------------+---------------+---------------------+---------------------+----------+----------------+------------+------------+-------------+-------------+------------+--------------+--------------------+--------------------+------------+------------------+---------------------+------------+----+\n",
      "|   id|amount_tsh|      date_recorded| funder|gps_height|installer|  longitude|   latitude|wpt_name|num_private|        basin|subvillage|region|region_code|district_code|      lga|    ward|population|public_meeting|         recorded_by|scheme_management|scheme_name|permit|construction_year|extraction_type|extraction_type_group|extraction_type_class|management|management_group|     payment|payment_type|water_quality|quality_group|    quantity|quantity_group|              source|         source_type|source_class|   waterpoint_type|waterpoint_type_group|status_group|Year|\n",
      "+-----+----------+-------------------+-------+----------+---------+-----------+-----------+--------+-----------+-------------+----------+------+-----------+-------------+---------+--------+----------+--------------+--------------------+-----------------+-----------+------+-----------------+---------------+---------------------+---------------------+----------+----------------+------------+------------+-------------+-------------+------------+--------------+--------------------+--------------------+------------+------------------+---------------------+------------+----+\n",
      "|69572|    6000.0|2011-03-14 00:00:00|  Roman|      1390|    Roman|34.93809275|-9.85632177|    none|          0|   Lake Nyasa|  Mnyusi B|Iringa|         11|            5|   Ludewa|Mundindi|       109|          True|GeoData Consultan...|              VWC|      Roman| false|             1999|        gravity|              gravity|              gravity|       vwc|      user-group|pay annually|    annually|         soft|         good|      enough|        enough|              spring|              spring| groundwater|communal standpipe|   communal standpipe|  functional|2011|\n",
      "| 8776|       0.0|2013-03-06 00:00:00|Grumeti|      1399|  GRUMETI| 34.6987661|-2.14746569|Zahanati|          0|Lake Victoria|   Nyamara|  Mara|         20|            2|Serengeti|   Natta|       280|          null|GeoData Consultan...|            Other|       null|  true|             2010|        gravity|              gravity|              gravity|       wug|      user-group|   never pay|   never pay|         soft|         good|insufficient|  insufficient|rainwater harvesting|rainwater harvesting|     surface|communal standpipe|   communal standpipe|  functional|2013|\n",
      "+-----+----------+-------------------+-------+----------+---------+-----------+-----------+--------+-----------+-------------+----------+------+-----------+-------------+---------+--------+----------+--------------+--------------------+-----------------+-----------+------+-----------------+---------------+---------------------+---------------------+----------+----------------+------------+------------+-------------+-------------+------------+--------------+--------------------+--------------------+------------+------------------+---------------------+------------+----+\n",
      "only showing top 2 rows\n",
      "\n"
     ]
    }
   ],
   "source": [
    "combined_data_df.show(2)"
   ]
  },
  {
   "cell_type": "code",
   "execution_count": 0,
   "metadata": {
    "colab": {},
    "colab_type": "code",
    "id": "MWkxHd_uh6lC"
   },
   "outputs": [],
   "source": [
    "combined_data_df=combined_data_df.withColumn(\"Month\",month(\"date_recorded\"))\n",
    "combined_data_df=combined_data_df.withColumn(\"Day\",dayofmonth(\"date_recorded\"))"
   ]
  },
  {
   "cell_type": "code",
   "execution_count": 119,
   "metadata": {
    "colab": {
     "base_uri": "https://localhost:8080/",
     "height": 173
    },
    "colab_type": "code",
    "id": "EHMT-nGNe9oW",
    "outputId": "4869b09b-078e-4467-9468-93cec3ebf90e"
   },
   "outputs": [
    {
     "name": "stdout",
     "output_type": "stream",
     "text": [
      "+-----+----------+-------------------+-------+----------+---------+-----------+-----------+--------+-----------+-------------+----------+------+-----------+-------------+---------+--------+----------+--------------+--------------------+-----------------+-----------+------+-----------------+---------------+---------------------+---------------------+----------+----------------+------------+------------+-------------+-------------+------------+--------------+--------------------+--------------------+------------+------------------+---------------------+------------+----+-----+---+\n",
      "|   id|amount_tsh|      date_recorded| funder|gps_height|installer|  longitude|   latitude|wpt_name|num_private|        basin|subvillage|region|region_code|district_code|      lga|    ward|population|public_meeting|         recorded_by|scheme_management|scheme_name|permit|construction_year|extraction_type|extraction_type_group|extraction_type_class|management|management_group|     payment|payment_type|water_quality|quality_group|    quantity|quantity_group|              source|         source_type|source_class|   waterpoint_type|waterpoint_type_group|status_group|Year|Month|Day|\n",
      "+-----+----------+-------------------+-------+----------+---------+-----------+-----------+--------+-----------+-------------+----------+------+-----------+-------------+---------+--------+----------+--------------+--------------------+-----------------+-----------+------+-----------------+---------------+---------------------+---------------------+----------+----------------+------------+------------+-------------+-------------+------------+--------------+--------------------+--------------------+------------+------------------+---------------------+------------+----+-----+---+\n",
      "|69572|    6000.0|2011-03-14 00:00:00|  Roman|      1390|    Roman|34.93809275|-9.85632177|    none|          0|   Lake Nyasa|  Mnyusi B|Iringa|         11|            5|   Ludewa|Mundindi|       109|          True|GeoData Consultan...|              VWC|      Roman| false|             1999|        gravity|              gravity|              gravity|       vwc|      user-group|pay annually|    annually|         soft|         good|      enough|        enough|              spring|              spring| groundwater|communal standpipe|   communal standpipe|  functional|2011|    3| 14|\n",
      "| 8776|       0.0|2013-03-06 00:00:00|Grumeti|      1399|  GRUMETI| 34.6987661|-2.14746569|Zahanati|          0|Lake Victoria|   Nyamara|  Mara|         20|            2|Serengeti|   Natta|       280|          null|GeoData Consultan...|            Other|       null|  true|             2010|        gravity|              gravity|              gravity|       wug|      user-group|   never pay|   never pay|         soft|         good|insufficient|  insufficient|rainwater harvesting|rainwater harvesting|     surface|communal standpipe|   communal standpipe|  functional|2013|    3|  6|\n",
      "+-----+----------+-------------------+-------+----------+---------+-----------+-----------+--------+-----------+-------------+----------+------+-----------+-------------+---------+--------+----------+--------------+--------------------+-----------------+-----------+------+-----------------+---------------+---------------------+---------------------+----------+----------------+------------+------------+-------------+-------------+------------+--------------+--------------------+--------------------+------------+------------------+---------------------+------------+----+-----+---+\n",
      "only showing top 2 rows\n",
      "\n"
     ]
    }
   ],
   "source": [
    "combined_data_df.show(2)"
   ]
  },
  {
   "cell_type": "code",
   "execution_count": 0,
   "metadata": {
    "colab": {},
    "colab_type": "code",
    "id": "QLRxUUYDikIc"
   },
   "outputs": [],
   "source": [
    "### Task9:​ Change the fields to the following, cast ‘​public_meeting​’ as String, cast ‘​permit​’ as String, cast ‘​gps_height​’ as Double. "
   ]
  },
  {
   "cell_type": "code",
   "execution_count": 121,
   "metadata": {
    "colab": {
     "base_uri": "https://localhost:8080/",
     "height": 765
    },
    "colab_type": "code",
    "id": "0JH2_7Y3ikcI",
    "outputId": "212c1a46-9c09-435f-c54e-6b4cfd69af63"
   },
   "outputs": [
    {
     "data": {
      "text/plain": [
       "[('id', 'int'),\n",
       " ('amount_tsh', 'double'),\n",
       " ('date_recorded', 'timestamp'),\n",
       " ('funder', 'string'),\n",
       " ('gps_height', 'int'),\n",
       " ('installer', 'string'),\n",
       " ('longitude', 'double'),\n",
       " ('latitude', 'double'),\n",
       " ('wpt_name', 'string'),\n",
       " ('num_private', 'int'),\n",
       " ('basin', 'string'),\n",
       " ('subvillage', 'string'),\n",
       " ('region', 'string'),\n",
       " ('region_code', 'int'),\n",
       " ('district_code', 'int'),\n",
       " ('lga', 'string'),\n",
       " ('ward', 'string'),\n",
       " ('population', 'int'),\n",
       " ('public_meeting', 'string'),\n",
       " ('recorded_by', 'string'),\n",
       " ('scheme_management', 'string'),\n",
       " ('scheme_name', 'string'),\n",
       " ('permit', 'boolean'),\n",
       " ('construction_year', 'int'),\n",
       " ('extraction_type', 'string'),\n",
       " ('extraction_type_group', 'string'),\n",
       " ('extraction_type_class', 'string'),\n",
       " ('management', 'string'),\n",
       " ('management_group', 'string'),\n",
       " ('payment', 'string'),\n",
       " ('payment_type', 'string'),\n",
       " ('water_quality', 'string'),\n",
       " ('quality_group', 'string'),\n",
       " ('quantity', 'string'),\n",
       " ('quantity_group', 'string'),\n",
       " ('source', 'string'),\n",
       " ('source_type', 'string'),\n",
       " ('source_class', 'string'),\n",
       " ('waterpoint_type', 'string'),\n",
       " ('waterpoint_type_group', 'string'),\n",
       " ('status_group', 'string'),\n",
       " ('Year', 'int'),\n",
       " ('Month', 'int'),\n",
       " ('Day', 'int')]"
      ]
     },
     "execution_count": 121,
     "metadata": {
      "tags": []
     },
     "output_type": "execute_result"
    }
   ],
   "source": [
    "combined_data_df.dtypes"
   ]
  },
  {
   "cell_type": "code",
   "execution_count": 0,
   "metadata": {
    "colab": {},
    "colab_type": "code",
    "id": "r4PTDC9Jm25A"
   },
   "outputs": [],
   "source": [
    "### ​public_meeting​ is already string and so not converting again to string as asked in question\n",
    "combined_data_df=combined_data_df.withColumn(\"gps_height\", combined_data_df[\"gps_height\"].cast(DoubleType()))\\\n",
    "                .withColumn(\"permit\",combined_data_df[\"permit\"].cast(StringType()))"
   ]
  },
  {
   "cell_type": "code",
   "execution_count": 123,
   "metadata": {
    "colab": {
     "base_uri": "https://localhost:8080/",
     "height": 765
    },
    "colab_type": "code",
    "id": "MVOQIO2mpoKh",
    "outputId": "f9b3f387-422e-477f-a4fe-054ac76f0824"
   },
   "outputs": [
    {
     "data": {
      "text/plain": [
       "[('id', 'int'),\n",
       " ('amount_tsh', 'double'),\n",
       " ('date_recorded', 'timestamp'),\n",
       " ('funder', 'string'),\n",
       " ('gps_height', 'double'),\n",
       " ('installer', 'string'),\n",
       " ('longitude', 'double'),\n",
       " ('latitude', 'double'),\n",
       " ('wpt_name', 'string'),\n",
       " ('num_private', 'int'),\n",
       " ('basin', 'string'),\n",
       " ('subvillage', 'string'),\n",
       " ('region', 'string'),\n",
       " ('region_code', 'int'),\n",
       " ('district_code', 'int'),\n",
       " ('lga', 'string'),\n",
       " ('ward', 'string'),\n",
       " ('population', 'int'),\n",
       " ('public_meeting', 'string'),\n",
       " ('recorded_by', 'string'),\n",
       " ('scheme_management', 'string'),\n",
       " ('scheme_name', 'string'),\n",
       " ('permit', 'string'),\n",
       " ('construction_year', 'int'),\n",
       " ('extraction_type', 'string'),\n",
       " ('extraction_type_group', 'string'),\n",
       " ('extraction_type_class', 'string'),\n",
       " ('management', 'string'),\n",
       " ('management_group', 'string'),\n",
       " ('payment', 'string'),\n",
       " ('payment_type', 'string'),\n",
       " ('water_quality', 'string'),\n",
       " ('quality_group', 'string'),\n",
       " ('quantity', 'string'),\n",
       " ('quantity_group', 'string'),\n",
       " ('source', 'string'),\n",
       " ('source_type', 'string'),\n",
       " ('source_class', 'string'),\n",
       " ('waterpoint_type', 'string'),\n",
       " ('waterpoint_type_group', 'string'),\n",
       " ('status_group', 'string'),\n",
       " ('Year', 'int'),\n",
       " ('Month', 'int'),\n",
       " ('Day', 'int')]"
      ]
     },
     "execution_count": 123,
     "metadata": {
      "tags": []
     },
     "output_type": "execute_result"
    }
   ],
   "source": [
    "combined_data_df.dtypes"
   ]
  },
  {
   "cell_type": "code",
   "execution_count": 124,
   "metadata": {
    "colab": {
     "base_uri": "https://localhost:8080/",
     "height": 224
    },
    "colab_type": "code",
    "id": "Ret17SlVpoQt",
    "outputId": "4a3f250a-3be8-40df-a1f7-c0815fb53308"
   },
   "outputs": [
    {
     "name": "stdout",
     "output_type": "stream",
     "text": [
      "+-----+----------+-------------------+------------+----------+------------+-----------+------------+--------------------+-----------+-----------------------+----------+-------+-----------+-------------+---------+----------+----------+--------------+-----------------------+-----------------+---------------------------+------+-----------------+---------------+---------------------+---------------------+----------+----------------+--------------+------------+-------------+-------------+------------+--------------+--------------------+--------------------+------------+---------------------------+---------------------+--------------+----+-----+---+\n",
      "|id   |amount_tsh|date_recorded      |funder      |gps_height|installer   |longitude  |latitude    |wpt_name            |num_private|basin                  |subvillage|region |region_code|district_code|lga      |ward      |population|public_meeting|recorded_by            |scheme_management|scheme_name                |permit|construction_year|extraction_type|extraction_type_group|extraction_type_class|management|management_group|payment       |payment_type|water_quality|quality_group|quantity    |quantity_group|source              |source_type         |source_class|waterpoint_type            |waterpoint_type_group|status_group  |Year|Month|Day|\n",
      "+-----+----------+-------------------+------------+----------+------------+-----------+------------+--------------------+-----------+-----------------------+----------+-------+-----------+-------------+---------+----------+----------+--------------+-----------------------+-----------------+---------------------------+------+-----------------+---------------+---------------------+---------------------+----------+----------------+--------------+------------+-------------+-------------+------------+--------------+--------------------+--------------------+------------+---------------------------+---------------------+--------------+----+-----+---+\n",
      "|69572|6000.0    |2011-03-14 00:00:00|Roman       |1390.0    |Roman       |34.93809275|-9.85632177 |none                |0          |Lake Nyasa             |Mnyusi B  |Iringa |11         |5            |Ludewa   |Mundindi  |109       |True          |GeoData Consultants Ltd|VWC              |Roman                      |false |1999             |gravity        |gravity              |gravity              |vwc       |user-group      |pay annually  |annually    |soft         |good         |enough      |enough        |spring              |spring              |groundwater |communal standpipe         |communal standpipe   |functional    |2011|3    |14 |\n",
      "|8776 |0.0       |2013-03-06 00:00:00|Grumeti     |1399.0    |GRUMETI     |34.6987661 |-2.14746569 |Zahanati            |0          |Lake Victoria          |Nyamara   |Mara   |20         |2            |Serengeti|Natta     |280       |null          |GeoData Consultants Ltd|Other            |null                       |true  |2010             |gravity        |gravity              |gravity              |wug       |user-group      |never pay     |never pay   |soft         |good         |insufficient|insufficient  |rainwater harvesting|rainwater harvesting|surface     |communal standpipe         |communal standpipe   |functional    |2013|3    |6  |\n",
      "|34310|25.0      |2013-02-25 00:00:00|Lottery Club|686.0     |World vision|37.46066446|-3.82132853 |Kwa Mahundi         |0          |Pangani                |Majengo   |Manyara|21         |4            |Simanjiro|Ngorika   |250       |True          |GeoData Consultants Ltd|VWC              |Nyumba ya mungu pipe scheme|true  |2009             |gravity        |gravity              |gravity              |vwc       |user-group      |pay per bucket|per bucket  |soft         |good         |enough      |enough        |dam                 |dam                 |surface     |communal standpipe multiple|communal standpipe   |functional    |2013|2    |25 |\n",
      "|67743|0.0       |2013-01-28 00:00:00|Unicef      |263.0     |UNICEF      |38.48616088|-11.15529772|Zahanati Ya Nanyumbu|0          |Ruvuma / Southern Coast|Mahakamani|Mtwara |90         |63           |Nanyumbu |Nanyumbu  |58        |True          |GeoData Consultants Ltd|VWC              |null                       |true  |1986             |submersible    |submersible          |submersible          |vwc       |user-group      |never pay     |never pay   |soft         |good         |dry         |dry           |machine dbh         |borehole            |groundwater |communal standpipe multiple|communal standpipe   |non functional|2013|1    |28 |\n",
      "|19728|0.0       |2011-07-13 00:00:00|Action In A |0.0       |Artisan     |31.13084671|-1.82535885 |Shuleni             |0          |Lake Victoria          |Kyanyamisa|Kagera |18         |1            |Karagwe  |Nyakasimbi|0         |True          |GeoData Consultants Ltd|null             |null                       |true  |0                |gravity        |gravity              |gravity              |other     |other           |never pay     |never pay   |soft         |good         |seasonal    |seasonal      |rainwater harvesting|rainwater harvesting|surface     |communal standpipe         |communal standpipe   |functional    |2011|7    |13 |\n",
      "+-----+----------+-------------------+------------+----------+------------+-----------+------------+--------------------+-----------+-----------------------+----------+-------+-----------+-------------+---------+----------+----------+--------------+-----------------------+-----------------+---------------------------+------+-----------------+---------------+---------------------+---------------------+----------+----------------+--------------+------------+-------------+-------------+------------+--------------+--------------------+--------------------+------------+---------------------------+---------------------+--------------+----+-----+---+\n",
      "only showing top 5 rows\n",
      "\n"
     ]
    }
   ],
   "source": [
    "combined_data_df.show(5,truncate=False)"
   ]
  },
  {
   "cell_type": "code",
   "execution_count": 0,
   "metadata": {
    "colab": {},
    "colab_type": "code",
    "id": "EdEy5rhQpoOw"
   },
   "outputs": [],
   "source": [
    "### Task10:​ Verify for the Nulls and NaNs in the data frame"
   ]
  },
  {
   "cell_type": "code",
   "execution_count": 126,
   "metadata": {
    "colab": {
     "base_uri": "https://localhost:8080/",
     "height": 765
    },
    "colab_type": "code",
    "id": "Dobd7wGatCCJ",
    "outputId": "f00ee5b9-9df9-427c-ce33-32b77bd36925"
   },
   "outputs": [
    {
     "data": {
      "text/plain": [
       "[('id', 'int'),\n",
       " ('amount_tsh', 'double'),\n",
       " ('date_recorded', 'timestamp'),\n",
       " ('funder', 'string'),\n",
       " ('gps_height', 'double'),\n",
       " ('installer', 'string'),\n",
       " ('longitude', 'double'),\n",
       " ('latitude', 'double'),\n",
       " ('wpt_name', 'string'),\n",
       " ('num_private', 'int'),\n",
       " ('basin', 'string'),\n",
       " ('subvillage', 'string'),\n",
       " ('region', 'string'),\n",
       " ('region_code', 'int'),\n",
       " ('district_code', 'int'),\n",
       " ('lga', 'string'),\n",
       " ('ward', 'string'),\n",
       " ('population', 'int'),\n",
       " ('public_meeting', 'string'),\n",
       " ('recorded_by', 'string'),\n",
       " ('scheme_management', 'string'),\n",
       " ('scheme_name', 'string'),\n",
       " ('permit', 'string'),\n",
       " ('construction_year', 'int'),\n",
       " ('extraction_type', 'string'),\n",
       " ('extraction_type_group', 'string'),\n",
       " ('extraction_type_class', 'string'),\n",
       " ('management', 'string'),\n",
       " ('management_group', 'string'),\n",
       " ('payment', 'string'),\n",
       " ('payment_type', 'string'),\n",
       " ('water_quality', 'string'),\n",
       " ('quality_group', 'string'),\n",
       " ('quantity', 'string'),\n",
       " ('quantity_group', 'string'),\n",
       " ('source', 'string'),\n",
       " ('source_type', 'string'),\n",
       " ('source_class', 'string'),\n",
       " ('waterpoint_type', 'string'),\n",
       " ('waterpoint_type_group', 'string'),\n",
       " ('status_group', 'string'),\n",
       " ('Year', 'int'),\n",
       " ('Month', 'int'),\n",
       " ('Day', 'int')]"
      ]
     },
     "execution_count": 126,
     "metadata": {
      "tags": []
     },
     "output_type": "execute_result"
    }
   ],
   "source": [
    "combined_data_df.dtypes"
   ]
  },
  {
   "cell_type": "code",
   "execution_count": 0,
   "metadata": {
    "colab": {},
    "colab_type": "code",
    "id": "hfrPUVlltk15"
   },
   "outputs": [],
   "source": [
    "###Converted date_recorded to StrinType as we were not able to look for Nan in timestamp field, and its throwing error\n",
    "combined_data_df=combined_data_df.withColumn(\"date_recorded\", combined_data_df[\"date_recorded\"].cast(StringType()))"
   ]
  },
  {
   "cell_type": "code",
   "execution_count": 128,
   "metadata": {
    "colab": {
     "base_uri": "https://localhost:8080/",
     "height": 139
    },
    "colab_type": "code",
    "id": "A3g3FqSoqeYd",
    "outputId": "8a0ba038-727d-4c0c-d935-b9a8606a724b"
   },
   "outputs": [
    {
     "name": "stdout",
     "output_type": "stream",
     "text": [
      "+---+----------+-------------+------+----------+---------+---------+--------+--------+-----------+-----+----------+------+-----------+-------------+---+----+----------+--------------+-----------+-----------------+-----------+------+-----------------+---------------+---------------------+---------------------+----------+----------------+-------+------------+-------------+-------------+--------+--------------+------+-----------+------------+---------------+---------------------+------------+----+-----+---+\n",
      "| id|amount_tsh|date_recorded|funder|gps_height|installer|longitude|latitude|wpt_name|num_private|basin|subvillage|region|region_code|district_code|lga|ward|population|public_meeting|recorded_by|scheme_management|scheme_name|permit|construction_year|extraction_type|extraction_type_group|extraction_type_class|management|management_group|payment|payment_type|water_quality|quality_group|quantity|quantity_group|source|source_type|source_class|waterpoint_type|waterpoint_type_group|status_group|Year|Month|Day|\n",
      "+---+----------+-------------+------+----------+---------+---------+--------+--------+-----------+-----+----------+------+-----------+-------------+---+----+----------+--------------+-----------+-----------------+-----------+------+-----------------+---------------+---------------------+---------------------+----------+----------------+-------+------------+-------------+-------------+--------+--------------+------+-----------+------------+---------------+---------------------+------------+----+-----+---+\n",
      "|  0|         0|            0|  3635|         6|     3655|        0|       0|       0|          0|    0|       371|     0|          0|            0|  0|   0|         0|          3334|          0|             3877|      28166|  3056|                0|              0|                    0|                    0|         0|               0|      0|           0|            0|            0|       0|             0|     0|          0|           0|              0|                    0|           0|   0|    0|  0|\n",
      "+---+----------+-------------+------+----------+---------+---------+--------+--------+-----------+-----+----------+------+-----------+-------------+---+----+----------+--------------+-----------+-----------------+-----------+------+-----------------+---------------+---------------------+---------------------+----------+----------------+-------+------------+-------------+-------------+--------+--------------+------+-----------+------------+---------------+---------------------+------------+----+-----+---+\n",
      "\n"
     ]
    }
   ],
   "source": [
    "from pyspark.sql.functions import isnan, when, count, col\n",
    "\n",
    "combined_data_df.select([count(when(isnan(c) | col(c).isNull(), c)).alias(c) for c in combined_data_df.columns]).show()"
   ]
  },
  {
   "cell_type": "code",
   "execution_count": 129,
   "metadata": {
    "colab": {
     "base_uri": "https://localhost:8080/",
     "height": 765
    },
    "colab_type": "code",
    "id": "dEVDWnW3qecJ",
    "outputId": "5110ad20-ece2-42c5-843e-80b92a379c28"
   },
   "outputs": [
    {
     "data": {
      "text/plain": [
       "[('id', 'int'),\n",
       " ('amount_tsh', 'double'),\n",
       " ('date_recorded', 'string'),\n",
       " ('funder', 'string'),\n",
       " ('gps_height', 'double'),\n",
       " ('installer', 'string'),\n",
       " ('longitude', 'double'),\n",
       " ('latitude', 'double'),\n",
       " ('wpt_name', 'string'),\n",
       " ('num_private', 'int'),\n",
       " ('basin', 'string'),\n",
       " ('subvillage', 'string'),\n",
       " ('region', 'string'),\n",
       " ('region_code', 'int'),\n",
       " ('district_code', 'int'),\n",
       " ('lga', 'string'),\n",
       " ('ward', 'string'),\n",
       " ('population', 'int'),\n",
       " ('public_meeting', 'string'),\n",
       " ('recorded_by', 'string'),\n",
       " ('scheme_management', 'string'),\n",
       " ('scheme_name', 'string'),\n",
       " ('permit', 'string'),\n",
       " ('construction_year', 'int'),\n",
       " ('extraction_type', 'string'),\n",
       " ('extraction_type_group', 'string'),\n",
       " ('extraction_type_class', 'string'),\n",
       " ('management', 'string'),\n",
       " ('management_group', 'string'),\n",
       " ('payment', 'string'),\n",
       " ('payment_type', 'string'),\n",
       " ('water_quality', 'string'),\n",
       " ('quality_group', 'string'),\n",
       " ('quantity', 'string'),\n",
       " ('quantity_group', 'string'),\n",
       " ('source', 'string'),\n",
       " ('source_type', 'string'),\n",
       " ('source_class', 'string'),\n",
       " ('waterpoint_type', 'string'),\n",
       " ('waterpoint_type_group', 'string'),\n",
       " ('status_group', 'string'),\n",
       " ('Year', 'int'),\n",
       " ('Month', 'int'),\n",
       " ('Day', 'int')]"
      ]
     },
     "execution_count": 129,
     "metadata": {
      "tags": []
     },
     "output_type": "execute_result"
    }
   ],
   "source": [
    "combined_data_df.dtypes"
   ]
  },
  {
   "cell_type": "code",
   "execution_count": 130,
   "metadata": {
    "colab": {
     "base_uri": "https://localhost:8080/",
     "height": 224
    },
    "colab_type": "code",
    "id": "A27h_pimqeWX",
    "outputId": "58231baa-90f5-46ae-e89d-e6fdc1dc7700"
   },
   "outputs": [
    {
     "name": "stdout",
     "output_type": "stream",
     "text": [
      "+-----+----------+-------------------+------------+----------+------------+-----------+------------+--------------------+-----------+-----------------------+----------+-------+-----------+-------------+---------+----------+----------+--------------+-----------------------+-----------------+---------------------------+------+-----------------+---------------+---------------------+---------------------+----------+----------------+--------------+------------+-------------+-------------+------------+--------------+--------------------+--------------------+------------+---------------------------+---------------------+--------------+----+-----+---+\n",
      "|id   |amount_tsh|date_recorded      |funder      |gps_height|installer   |longitude  |latitude    |wpt_name            |num_private|basin                  |subvillage|region |region_code|district_code|lga      |ward      |population|public_meeting|recorded_by            |scheme_management|scheme_name                |permit|construction_year|extraction_type|extraction_type_group|extraction_type_class|management|management_group|payment       |payment_type|water_quality|quality_group|quantity    |quantity_group|source              |source_type         |source_class|waterpoint_type            |waterpoint_type_group|status_group  |Year|Month|Day|\n",
      "+-----+----------+-------------------+------------+----------+------------+-----------+------------+--------------------+-----------+-----------------------+----------+-------+-----------+-------------+---------+----------+----------+--------------+-----------------------+-----------------+---------------------------+------+-----------------+---------------+---------------------+---------------------+----------+----------------+--------------+------------+-------------+-------------+------------+--------------+--------------------+--------------------+------------+---------------------------+---------------------+--------------+----+-----+---+\n",
      "|69572|6000.0    |2011-03-14 00:00:00|Roman       |1390.0    |Roman       |34.93809275|-9.85632177 |none                |0          |Lake Nyasa             |Mnyusi B  |Iringa |11         |5            |Ludewa   |Mundindi  |109       |True          |GeoData Consultants Ltd|VWC              |Roman                      |false |1999             |gravity        |gravity              |gravity              |vwc       |user-group      |pay annually  |annually    |soft         |good         |enough      |enough        |spring              |spring              |groundwater |communal standpipe         |communal standpipe   |functional    |2011|3    |14 |\n",
      "|8776 |0.0       |2013-03-06 00:00:00|Grumeti     |1399.0    |GRUMETI     |34.6987661 |-2.14746569 |Zahanati            |0          |Lake Victoria          |Nyamara   |Mara   |20         |2            |Serengeti|Natta     |280       |null          |GeoData Consultants Ltd|Other            |null                       |true  |2010             |gravity        |gravity              |gravity              |wug       |user-group      |never pay     |never pay   |soft         |good         |insufficient|insufficient  |rainwater harvesting|rainwater harvesting|surface     |communal standpipe         |communal standpipe   |functional    |2013|3    |6  |\n",
      "|34310|25.0      |2013-02-25 00:00:00|Lottery Club|686.0     |World vision|37.46066446|-3.82132853 |Kwa Mahundi         |0          |Pangani                |Majengo   |Manyara|21         |4            |Simanjiro|Ngorika   |250       |True          |GeoData Consultants Ltd|VWC              |Nyumba ya mungu pipe scheme|true  |2009             |gravity        |gravity              |gravity              |vwc       |user-group      |pay per bucket|per bucket  |soft         |good         |enough      |enough        |dam                 |dam                 |surface     |communal standpipe multiple|communal standpipe   |functional    |2013|2    |25 |\n",
      "|67743|0.0       |2013-01-28 00:00:00|Unicef      |263.0     |UNICEF      |38.48616088|-11.15529772|Zahanati Ya Nanyumbu|0          |Ruvuma / Southern Coast|Mahakamani|Mtwara |90         |63           |Nanyumbu |Nanyumbu  |58        |True          |GeoData Consultants Ltd|VWC              |null                       |true  |1986             |submersible    |submersible          |submersible          |vwc       |user-group      |never pay     |never pay   |soft         |good         |dry         |dry           |machine dbh         |borehole            |groundwater |communal standpipe multiple|communal standpipe   |non functional|2013|1    |28 |\n",
      "|19728|0.0       |2011-07-13 00:00:00|Action In A |0.0       |Artisan     |31.13084671|-1.82535885 |Shuleni             |0          |Lake Victoria          |Kyanyamisa|Kagera |18         |1            |Karagwe  |Nyakasimbi|0         |True          |GeoData Consultants Ltd|null             |null                       |true  |0                |gravity        |gravity              |gravity              |other     |other           |never pay     |never pay   |soft         |good         |seasonal    |seasonal      |rainwater harvesting|rainwater harvesting|surface     |communal standpipe         |communal standpipe   |functional    |2011|7    |13 |\n",
      "+-----+----------+-------------------+------------+----------+------------+-----------+------------+--------------------+-----------+-----------------------+----------+-------+-----------+-------------+---------+----------+----------+--------------+-----------------------+-----------------+---------------------------+------+-----------------+---------------+---------------------+---------------------+----------+----------------+--------------+------------+-------------+-------------+------------+--------------+--------------------+--------------------+------------+---------------------------+---------------------+--------------+----+-----+---+\n",
      "only showing top 5 rows\n",
      "\n"
     ]
    }
   ],
   "source": [
    "combined_data_df.show(5,truncate=False)"
   ]
  },
  {
   "cell_type": "code",
   "execution_count": 0,
   "metadata": {
    "colab": {},
    "colab_type": "code",
    "id": "lwR_uw9Quuvj"
   },
   "outputs": [],
   "source": [
    "### Task11: ​Impute the ‘​gps_height​’ field with mean value for any missing values.  (Use from pyspark.ml.feature import Imputer). "
   ]
  },
  {
   "cell_type": "code",
   "execution_count": 0,
   "metadata": {
    "colab": {},
    "colab_type": "code",
    "id": "42Gf0UhRuuq2"
   },
   "outputs": [],
   "source": [
    "from pyspark.ml.feature import Imputer\n",
    "imputer = Imputer(inputCols=[\"gps_height\"], outputCols=[\"gps_height\"])   \n",
    "combined_data_df2=combined_data_df\n",
    "combined_data_df2=imputer.fit(combined_data_df2).transform(combined_data_df2)"
   ]
  },
  {
   "cell_type": "code",
   "execution_count": 133,
   "metadata": {
    "colab": {
     "base_uri": "https://localhost:8080/",
     "height": 139
    },
    "colab_type": "code",
    "id": "aft4bFt_qeTi",
    "outputId": "e58abc34-6328-43db-fceb-bfc04d099b2a"
   },
   "outputs": [
    {
     "name": "stdout",
     "output_type": "stream",
     "text": [
      "+---+----------+-------------+------+----------+---------+---------+--------+--------+-----------+-----+----------+------+-----------+-------------+---+----+----------+--------------+-----------+-----------------+-----------+------+-----------------+---------------+---------------------+---------------------+----------+----------------+-------+------------+-------------+-------------+--------+--------------+------+-----------+------------+---------------+---------------------+------------+----+-----+---+\n",
      "|id |amount_tsh|date_recorded|funder|gps_height|installer|longitude|latitude|wpt_name|num_private|basin|subvillage|region|region_code|district_code|lga|ward|population|public_meeting|recorded_by|scheme_management|scheme_name|permit|construction_year|extraction_type|extraction_type_group|extraction_type_class|management|management_group|payment|payment_type|water_quality|quality_group|quantity|quantity_group|source|source_type|source_class|waterpoint_type|waterpoint_type_group|status_group|Year|Month|Day|\n",
      "+---+----------+-------------+------+----------+---------+---------+--------+--------+-----------+-----+----------+------+-----------+-------------+---+----+----------+--------------+-----------+-----------------+-----------+------+-----------------+---------------+---------------------+---------------------+----------+----------------+-------+------------+-------------+-------------+--------+--------------+------+-----------+------------+---------------+---------------------+------------+----+-----+---+\n",
      "|0  |0         |0            |3635  |0         |3655     |0        |0       |0       |0          |0    |371       |0     |0          |0            |0  |0   |0         |3334          |0          |3877             |28166      |3056  |0                |0              |0                    |0                    |0         |0               |0      |0           |0            |0            |0       |0             |0     |0          |0           |0              |0                    |0           |0   |0    |0  |\n",
      "+---+----------+-------------+------+----------+---------+---------+--------+--------+-----------+-----+----------+------+-----------+-------------+---+----+----------+--------------+-----------+-----------------+-----------+------+-----------------+---------------+---------------------+---------------------+----------+----------------+-------+------------+-------------+-------------+--------+--------------+------+-----------+------------+---------------+---------------------+------------+----+-----+---+\n",
      "\n"
     ]
    }
   ],
   "source": [
    "### Now we see that 6 missing values count became 0 after imputation\n",
    "combined_data_df2.select([count(when(isnan(c) | col(c).isNull(), c)).alias(c) for c in combined_data_df.columns]).show(truncate=False)"
   ]
  },
  {
   "cell_type": "code",
   "execution_count": 0,
   "metadata": {
    "colab": {},
    "colab_type": "code",
    "id": "r85UvHp-zObL"
   },
   "outputs": [],
   "source": [
    "### Task12: ​Drop ​‘id’,’record_by’​ and ​‘date_recorded’ ​from the dataframe"
   ]
  },
  {
   "cell_type": "code",
   "execution_count": 0,
   "metadata": {
    "colab": {},
    "colab_type": "code",
    "id": "0H0mY8QBzOfc"
   },
   "outputs": [],
   "source": [
    "combined_data_df3=combined_data_df2.drop(*['id','date_recorded','recorded_by'])"
   ]
  },
  {
   "cell_type": "code",
   "execution_count": 136,
   "metadata": {
    "colab": {
     "base_uri": "https://localhost:8080/",
     "height": 173
    },
    "colab_type": "code",
    "id": "5CXlJagpzOZM",
    "outputId": "fc03783f-5c26-480a-cd06-5b4c26ab3ddd"
   },
   "outputs": [
    {
     "name": "stdout",
     "output_type": "stream",
     "text": [
      "+----------+-------+----------+---------+-----------+-----------+--------+-----------+-------------+----------+------+-----------+-------------+---------+--------+----------+--------------+-----------------+-----------+------+-----------------+---------------+---------------------+---------------------+----------+----------------+------------+------------+-------------+-------------+------------+--------------+--------------------+--------------------+------------+------------------+---------------------+------------+----+-----+---+\n",
      "|amount_tsh| funder|gps_height|installer|  longitude|   latitude|wpt_name|num_private|        basin|subvillage|region|region_code|district_code|      lga|    ward|population|public_meeting|scheme_management|scheme_name|permit|construction_year|extraction_type|extraction_type_group|extraction_type_class|management|management_group|     payment|payment_type|water_quality|quality_group|    quantity|quantity_group|              source|         source_type|source_class|   waterpoint_type|waterpoint_type_group|status_group|Year|Month|Day|\n",
      "+----------+-------+----------+---------+-----------+-----------+--------+-----------+-------------+----------+------+-----------+-------------+---------+--------+----------+--------------+-----------------+-----------+------+-----------------+---------------+---------------------+---------------------+----------+----------------+------------+------------+-------------+-------------+------------+--------------+--------------------+--------------------+------------+------------------+---------------------+------------+----+-----+---+\n",
      "|    6000.0|  Roman|    1390.0|    Roman|34.93809275|-9.85632177|    none|          0|   Lake Nyasa|  Mnyusi B|Iringa|         11|            5|   Ludewa|Mundindi|       109|          True|              VWC|      Roman| false|             1999|        gravity|              gravity|              gravity|       vwc|      user-group|pay annually|    annually|         soft|         good|      enough|        enough|              spring|              spring| groundwater|communal standpipe|   communal standpipe|  functional|2011|    3| 14|\n",
      "|       0.0|Grumeti|    1399.0|  GRUMETI| 34.6987661|-2.14746569|Zahanati|          0|Lake Victoria|   Nyamara|  Mara|         20|            2|Serengeti|   Natta|       280|          null|            Other|       null|  true|             2010|        gravity|              gravity|              gravity|       wug|      user-group|   never pay|   never pay|         soft|         good|insufficient|  insufficient|rainwater harvesting|rainwater harvesting|     surface|communal standpipe|   communal standpipe|  functional|2013|    3|  6|\n",
      "+----------+-------+----------+---------+-----------+-----------+--------+-----------+-------------+----------+------+-----------+-------------+---------+--------+----------+--------------+-----------------+-----------+------+-----------------+---------------+---------------------+---------------------+----------+----------------+------------+------------+-------------+-------------+------------+--------------+--------------------+--------------------+------------+------------------+---------------------+------------+----+-----+---+\n",
      "only showing top 2 rows\n",
      "\n"
     ]
    }
   ],
   "source": [
    "combined_data_df3.show(2)"
   ]
  },
  {
   "cell_type": "code",
   "execution_count": 0,
   "metadata": {
    "colab": {},
    "colab_type": "code",
    "id": "tEj7rdtFzOWK"
   },
   "outputs": [],
   "source": [
    "### Task13:​ Replace null values with the value  ‘UNKNOWN’ for these fields ‘funder’,’installer’,’subvillage’,’public_meeting’,’scheme_management’,’scheme_name’,’permit’​."
   ]
  },
  {
   "cell_type": "code",
   "execution_count": 138,
   "metadata": {
    "colab": {
     "base_uri": "https://localhost:8080/",
     "height": 479
    },
    "colab_type": "code",
    "id": "azXYGR9-1tIt",
    "outputId": "fe5c9e65-9184-4a83-ad38-fee93079dd87"
   },
   "outputs": [
    {
     "name": "stdout",
     "output_type": "stream",
     "text": [
      "+----------+--------------------+----------+--------------------+-----------+------------+--------------------+-----------+--------------------+---------------+-----------+-----------+-------------+----------------+--------------+----------+--------------+-----------------+--------------------+------+-----------------+---------------+---------------------+---------------------+----------------+----------------+--------------------+------------+-------------+-------------+------------+--------------+--------------------+--------------------+------------+--------------------+---------------------+--------------------+----+-----+---+\n",
      "|amount_tsh|              funder|gps_height|           installer|  longitude|    latitude|            wpt_name|num_private|               basin|     subvillage|     region|region_code|district_code|             lga|          ward|population|public_meeting|scheme_management|         scheme_name|permit|construction_year|extraction_type|extraction_type_group|extraction_type_class|      management|management_group|             payment|payment_type|water_quality|quality_group|    quantity|quantity_group|              source|         source_type|source_class|     waterpoint_type|waterpoint_type_group|        status_group|Year|Month|Day|\n",
      "+----------+--------------------+----------+--------------------+-----------+------------+--------------------+-----------+--------------------+---------------+-----------+-----------+-------------+----------------+--------------+----------+--------------+-----------------+--------------------+------+-----------------+---------------+---------------------+---------------------+----------------+----------------+--------------------+------------+-------------+-------------+------------+--------------+--------------------+--------------------+------------+--------------------+---------------------+--------------------+----+-----+---+\n",
      "|    6000.0|               Roman|    1390.0|               Roman|34.93809275| -9.85632177|                none|          0|          Lake Nyasa|       Mnyusi B|     Iringa|         11|            5|          Ludewa|      Mundindi|       109|          True|              VWC|               Roman| false|             1999|        gravity|              gravity|              gravity|             vwc|      user-group|        pay annually|    annually|         soft|         good|      enough|        enough|              spring|              spring| groundwater|  communal standpipe|   communal standpipe|          functional|2011|    3| 14|\n",
      "|       0.0|             Grumeti|    1399.0|             GRUMETI| 34.6987661| -2.14746569|            Zahanati|          0|       Lake Victoria|        Nyamara|       Mara|         20|            2|       Serengeti|         Natta|       280|          null|            Other|                null|  true|             2010|        gravity|              gravity|              gravity|             wug|      user-group|           never pay|   never pay|         soft|         good|insufficient|  insufficient|rainwater harvesting|rainwater harvesting|     surface|  communal standpipe|   communal standpipe|          functional|2013|    3|  6|\n",
      "|      25.0|        Lottery Club|     686.0|        World vision|37.46066446| -3.82132853|         Kwa Mahundi|          0|             Pangani|        Majengo|    Manyara|         21|            4|       Simanjiro|       Ngorika|       250|          True|              VWC|Nyumba ya mungu p...|  true|             2009|        gravity|              gravity|              gravity|             vwc|      user-group|      pay per bucket|  per bucket|         soft|         good|      enough|        enough|                 dam|                 dam|     surface|communal standpip...|   communal standpipe|          functional|2013|    2| 25|\n",
      "|       0.0|              Unicef|     263.0|              UNICEF|38.48616088|-11.15529772|Zahanati Ya Nanyumbu|          0|Ruvuma / Southern...|     Mahakamani|     Mtwara|         90|           63|        Nanyumbu|      Nanyumbu|        58|          True|              VWC|                null|  true|             1986|    submersible|          submersible|          submersible|             vwc|      user-group|           never pay|   never pay|         soft|         good|         dry|           dry|         machine dbh|            borehole| groundwater|communal standpip...|   communal standpipe|      non functional|2013|    1| 28|\n",
      "|       0.0|         Action In A|       0.0|             Artisan|31.13084671| -1.82535885|             Shuleni|          0|       Lake Victoria|     Kyanyamisa|     Kagera|         18|            1|         Karagwe|    Nyakasimbi|         0|          True|             null|                null|  true|                0|        gravity|              gravity|              gravity|           other|           other|           never pay|   never pay|         soft|         good|    seasonal|      seasonal|rainwater harvesting|rainwater harvesting|     surface|  communal standpipe|   communal standpipe|          functional|2011|    7| 13|\n",
      "|      20.0| Mkinga Distric Coun|       0.0|                 DWE| 39.1727956| -4.76558728|              Tajiri|          0|             Pangani|    Moa/Mwereme|      Tanga|          4|            8|          Mkinga|           Moa|         1|          True|              VWC|           Zingibali|  true|             2009|    submersible|          submersible|          submersible|             vwc|      user-group|      pay per bucket|  per bucket|        salty|        salty|      enough|        enough|               other|               other|     unknown|communal standpip...|   communal standpipe|          functional|2011|    3| 13|\n",
      "|       0.0|                Dwsp|       0.0|                DWSP|33.36240982| -3.76636472|          Kwa Ngomho|          0|            Internal|  Ishinabulandi|  Shinyanga|         17|            3| Shinyanga Rural|        Samuye|         0|          True|              VWC|                null|  true|                0|         swn 80|               swn 80|             handpump|             vwc|      user-group|           never pay|   never pay|         soft|         good|      enough|        enough|         machine dbh|            borehole| groundwater|           hand pump|            hand pump|      non functional|2012|   10|  1|\n",
      "|       0.0|               Rwssp|       0.0|                 DWE|32.62061707| -4.22619802|        Tushirikiane|          0|     Lake Tanganyika|Nyawishi Center|  Shinyanga|         17|            3|          Kahama|        Chambo|         0|          True|             null|                null|  true|                0|    nira/tanira|          nira/tanira|             handpump|             wug|      user-group|             unknown|     unknown|        milky|        milky|      enough|        enough|        shallow well|        shallow well| groundwater|           hand pump|            hand pump|      non functional|2012|   10|  9|\n",
      "|       0.0|            Wateraid|       0.0|           Water Aid|32.71110001| -5.14671181|   Kwa Ramadhan Musa|          0|     Lake Tanganyika|     Imalauduki|     Tabora|         14|            6|    Tabora Urban|      Itetemia|         0|          True|              VWC|                null|  true|                0|  india mark ii|        india mark ii|             handpump|             vwc|      user-group|           never pay|   never pay|        salty|        salty|    seasonal|      seasonal|         machine dbh|            borehole| groundwater|           hand pump|            hand pump|      non functional|2012|   11|  3|\n",
      "|       0.0|         Isingiro Ho|       0.0|             Artisan|30.62699053| -1.25705061|             Kwapeto|          0|       Lake Victoria|       Mkonomre|     Kagera|         18|            1|         Karagwe|        Kaisho|         0|          True|             null|                null|  true|                0|    nira/tanira|          nira/tanira|             handpump|             vwc|      user-group|           never pay|   never pay|         soft|         good|      enough|        enough|        shallow well|        shallow well| groundwater|           hand pump|            hand pump|          functional|2011|    8|  3|\n",
      "|       0.0|             Private|      62.0|             Private|39.20951812| -7.03413939|       Mzee Hokororo|          0|         Wami / Ruvu|         Mizugo|      Pwani|         60|           43|        Mkuranga|       Tambani|       345|          True| Private operator|                null| false|             2011|    submersible|          submersible|          submersible|private operator|      commercial|           never pay|   never pay|        salty|        salty|      enough|        enough|         machine dbh|            borehole| groundwater|               other|                other|          functional|2011|    2| 20|\n",
      "|     200.0|              Danida|    1062.0|              DANIDA|35.77025785|-10.57417468|    Kwa Alid Nchimbi|          0|          Lake Nyasa|   Ngondombwito|     Ruvuma|         10|            5|        Namtumbo|        Msindo|       250|          True|              WUG|                null| false|             1987|         swn 80|               swn 80|             handpump|             wug|      user-group|pay when scheme f...|  on failure|         soft|         good|insufficient|  insufficient|        shallow well|        shallow well| groundwater|           hand pump|            hand pump|          functional|2013|    2| 18|\n",
      "|       0.0|        World Vision|       0.0|        World vision|33.79810612|  -3.2901938|               Pamba|          0|            Internal|        Nkilifa|  Shinyanga|         17|            2|           Maswa|      Busilili|         0|          True|              WUG|                null| false|                0|    nira/tanira|          nira/tanira|             handpump|             wug|      user-group|               other|       other|         soft|         good|      enough|        enough|        shallow well|        shallow well| groundwater|           hand pump|            hand pump|          functional|2012|   10| 14|\n",
      "|       0.0|Lawatefuka Water ...|    1368.0|Lawatefuka water sup|37.09257412|  -3.1817833|Kwa John Izack Mmari|          0|             Pangani|        Omarini|Kilimanjaro|          3|            7|            Siha|Siha Kaskazini|         1|          True|      Water Board|          BL Bondeni|  true|             2009|        gravity|              gravity|              gravity|     water board|      user-group|         pay monthly|     monthly|         soft|         good|      enough|        enough|              spring|              spring| groundwater|  communal standpipe|   communal standpipe|          functional|2013|    3| 15|\n",
      "|       0.0|               Biore|       0.0|              WEDECO|34.36407268| -3.62933335|           Mwabasabi|          0|            Internal|      Mwabasabi|  Shinyanga|         17|            6|           Meatu|         Nkoma|         0|          True|              WUG|                None|  true|                0|    nira/tanira|          nira/tanira|             handpump|             wug|      user-group|           never pay|   never pay|         soft|         good|      enough|        enough|        shallow well|        shallow well| groundwater|           hand pump|            hand pump|          functional|2012|   10| 20|\n",
      "|       0.0|               Rudep|    1645.0|                 DWE|31.44412134| -8.27496163|Kwa Juvenal Ching...|          0|     Lake Tanganyika|          Tunzi|      Rukwa|         15|            2|Sumbawanga Rural|         Mkowe|       200|          True|              VWC|                null| false|             1991|         swn 80|               swn 80|             handpump|             vwc|      user-group|           never pay|   never pay|         soft|         good|      enough|        enough|         machine dbh|            borehole| groundwater|           hand pump|            hand pump|          functional|2011|    8|  4|\n",
      "|     500.0|              Unicef|    1703.0|                 DWE|34.64243884| -9.10618458|     Kwa John Mtenzi|          0|              Rufiji|       Kidudumo|     Iringa|         11|            4|          Njombe|        Mdandu|        35|          True|              WUA|wanging'ombe wate...|  true|             1978|        gravity|              gravity|              gravity|             wua|      user-group|         pay monthly|     monthly|         soft|         good|         dry|           dry|               river|          river/lake|     surface|  communal standpipe|   communal standpipe|      non functional|2011|    7|  4|\n",
      "|       0.0|              Unicef|    1656.0|                 DWE|34.56926611| -9.08551497|     Kwa Rose Chaula|          0|              Rufiji|         Yeriko|     Iringa|         11|            4|          Njombe|         Usuka|        50|          True|              WUA|wanging'ombe wate...|  true|             1978|        gravity|              gravity|              gravity|             wua|      user-group|pay when scheme f...|  on failure|         soft|         good|         dry|           dry|               river|          river/lake|     surface|  communal standpipe|   communal standpipe|      non functional|2011|    9|  4|\n",
      "|       0.0|              Hesawa|    1162.0|                 DWE|32.92015381| -1.94786801|              Ngomee|          0|       Lake Victoria|         Center|     Mwanza|         19|            1|         Ukerewe|      Ilangala|      1000|          null|             null|                null|  true|             1999|          other|                other|                other|             vwc|      user-group|           never pay|   never pay|        milky|        milky|insufficient|  insufficient|              spring|              spring| groundwater|               other|                other|functional needs ...|2011|    7| 22|\n",
      "|     500.0|              Danida|    1763.0|               Danid|34.50896732|  -9.8944125|                none|          0|          Lake Nyasa|       Manyanya|     Iringa|         11|            5|          Ludewa|       Mawengi|         1|          True|              VWC|              Makanj|  true|             1992|        gravity|              gravity|              gravity|             vwc|      user-group|        pay annually|    annually|         soft|         good|      enough|        enough|              spring|              spring| groundwater|  communal standpipe|   communal standpipe|          functional|2011|    2| 22|\n",
      "+----------+--------------------+----------+--------------------+-----------+------------+--------------------+-----------+--------------------+---------------+-----------+-----------+-------------+----------------+--------------+----------+--------------+-----------------+--------------------+------+-----------------+---------------+---------------------+---------------------+----------------+----------------+--------------------+------------+-------------+-------------+------------+--------------+--------------------+--------------------+------------+--------------------+---------------------+--------------------+----+-----+---+\n",
      "only showing top 20 rows\n",
      "\n"
     ]
    }
   ],
   "source": [
    "combined_data_df3.show()"
   ]
  },
  {
   "cell_type": "code",
   "execution_count": 139,
   "metadata": {
    "colab": {
     "base_uri": "https://localhost:8080/",
     "height": 139
    },
    "colab_type": "code",
    "id": "WWmko0SB4Glk",
    "outputId": "bd077d7d-45a6-4b45-d6b1-500bb20ab098"
   },
   "outputs": [
    {
     "name": "stdout",
     "output_type": "stream",
     "text": [
      "+----------+------+----------+---------+---------+--------+--------+-----------+-----+----------+------+-----------+-------------+---+----+----------+--------------+-----------------+-----------+------+-----------------+---------------+---------------------+---------------------+----------+----------------+-------+------------+-------------+-------------+--------+--------------+------+-----------+------------+---------------+---------------------+------------+----+-----+---+\n",
      "|amount_tsh|funder|gps_height|installer|longitude|latitude|wpt_name|num_private|basin|subvillage|region|region_code|district_code|lga|ward|population|public_meeting|scheme_management|scheme_name|permit|construction_year|extraction_type|extraction_type_group|extraction_type_class|management|management_group|payment|payment_type|water_quality|quality_group|quantity|quantity_group|source|source_type|source_class|waterpoint_type|waterpoint_type_group|status_group|Year|Month|Day|\n",
      "+----------+------+----------+---------+---------+--------+--------+-----------+-----+----------+------+-----------+-------------+---+----+----------+--------------+-----------------+-----------+------+-----------------+---------------+---------------------+---------------------+----------+----------------+-------+------------+-------------+-------------+--------+--------------+------+-----------+------------+---------------+---------------------+------------+----+-----+---+\n",
      "|0         |3635  |0         |3655     |0        |0       |0       |0          |0    |371       |0     |0          |0            |0  |0   |0         |3334          |3877             |28166      |3056  |0                |0              |0                    |0                    |0         |0               |0      |0           |0            |0            |0       |0             |0     |0          |0           |0              |0                    |0           |0   |0    |0  |\n",
      "+----------+------+----------+---------+---------+--------+--------+-----------+-----+----------+------+-----------+-------------+---+----+----------+--------------+-----------------+-----------+------+-----------------+---------------+---------------------+---------------------+----------+----------------+-------+------------+-------------+-------------+--------+--------------+------+-----------+------------+---------------+---------------------+------------+----+-----+---+\n",
      "\n"
     ]
    }
   ],
   "source": [
    "\n",
    "combined_data_df3.select([count(when(isnan(c) | col(c).isNull(), c)).alias(c) for c in combined_data_df3.columns]).show(truncate=False)"
   ]
  },
  {
   "cell_type": "code",
   "execution_count": 0,
   "metadata": {
    "colab": {},
    "colab_type": "code",
    "id": "T3Xbsc7a03uO"
   },
   "outputs": [],
   "source": [
    "combined_data_df_final=combined_data_df3.fillna({'funder':'UNKNOWN','installer':'UNKNOWN','subvillage':'UNKNOWN','public_meeting':'UNKNOWN',\\\n",
    "                          'scheme_management':'UNKNOWN','scheme_name':'UNKNOWN','permit':'UNKNOWN',})\n"
   ]
  },
  {
   "cell_type": "code",
   "execution_count": 141,
   "metadata": {
    "colab": {
     "base_uri": "https://localhost:8080/",
     "height": 479
    },
    "colab_type": "code",
    "id": "ra4TIphy13-f",
    "outputId": "5bdab863-5f0c-47d1-d45c-d96ea9306c57"
   },
   "outputs": [
    {
     "name": "stdout",
     "output_type": "stream",
     "text": [
      "+----------+-----------------------+----------+--------------------+-----------+------------+----------------------+-----------+-----------------------+---------------+-----------+-----------+-------------+----------------+--------------+----------+--------------+-----------------+---------------------------+------+-----------------+---------------+---------------------+---------------------+----------------+----------------+---------------------+------------+-------------+-------------+------------+--------------+--------------------+--------------------+------------+---------------------------+---------------------+-----------------------+----+-----+---+\n",
      "|amount_tsh|funder                 |gps_height|installer           |longitude  |latitude    |wpt_name              |num_private|basin                  |subvillage     |region     |region_code|district_code|lga             |ward          |population|public_meeting|scheme_management|scheme_name                |permit|construction_year|extraction_type|extraction_type_group|extraction_type_class|management      |management_group|payment              |payment_type|water_quality|quality_group|quantity    |quantity_group|source              |source_type         |source_class|waterpoint_type            |waterpoint_type_group|status_group           |Year|Month|Day|\n",
      "+----------+-----------------------+----------+--------------------+-----------+------------+----------------------+-----------+-----------------------+---------------+-----------+-----------+-------------+----------------+--------------+----------+--------------+-----------------+---------------------------+------+-----------------+---------------+---------------------+---------------------+----------------+----------------+---------------------+------------+-------------+-------------+------------+--------------+--------------------+--------------------+------------+---------------------------+---------------------+-----------------------+----+-----+---+\n",
      "|6000.0    |Roman                  |1390.0    |Roman               |34.93809275|-9.85632177 |none                  |0          |Lake Nyasa             |Mnyusi B       |Iringa     |11         |5            |Ludewa          |Mundindi      |109       |True          |VWC              |Roman                      |false |1999             |gravity        |gravity              |gravity              |vwc             |user-group      |pay annually         |annually    |soft         |good         |enough      |enough        |spring              |spring              |groundwater |communal standpipe         |communal standpipe   |functional             |2011|3    |14 |\n",
      "|0.0       |Grumeti                |1399.0    |GRUMETI             |34.6987661 |-2.14746569 |Zahanati              |0          |Lake Victoria          |Nyamara        |Mara       |20         |2            |Serengeti       |Natta         |280       |UNKNOWN       |Other            |UNKNOWN                    |true  |2010             |gravity        |gravity              |gravity              |wug             |user-group      |never pay            |never pay   |soft         |good         |insufficient|insufficient  |rainwater harvesting|rainwater harvesting|surface     |communal standpipe         |communal standpipe   |functional             |2013|3    |6  |\n",
      "|25.0      |Lottery Club           |686.0     |World vision        |37.46066446|-3.82132853 |Kwa Mahundi           |0          |Pangani                |Majengo        |Manyara    |21         |4            |Simanjiro       |Ngorika       |250       |True          |VWC              |Nyumba ya mungu pipe scheme|true  |2009             |gravity        |gravity              |gravity              |vwc             |user-group      |pay per bucket       |per bucket  |soft         |good         |enough      |enough        |dam                 |dam                 |surface     |communal standpipe multiple|communal standpipe   |functional             |2013|2    |25 |\n",
      "|0.0       |Unicef                 |263.0     |UNICEF              |38.48616088|-11.15529772|Zahanati Ya Nanyumbu  |0          |Ruvuma / Southern Coast|Mahakamani     |Mtwara     |90         |63           |Nanyumbu        |Nanyumbu      |58        |True          |VWC              |UNKNOWN                    |true  |1986             |submersible    |submersible          |submersible          |vwc             |user-group      |never pay            |never pay   |soft         |good         |dry         |dry           |machine dbh         |borehole            |groundwater |communal standpipe multiple|communal standpipe   |non functional         |2013|1    |28 |\n",
      "|0.0       |Action In A            |0.0       |Artisan             |31.13084671|-1.82535885 |Shuleni               |0          |Lake Victoria          |Kyanyamisa     |Kagera     |18         |1            |Karagwe         |Nyakasimbi    |0         |True          |UNKNOWN          |UNKNOWN                    |true  |0                |gravity        |gravity              |gravity              |other           |other           |never pay            |never pay   |soft         |good         |seasonal    |seasonal      |rainwater harvesting|rainwater harvesting|surface     |communal standpipe         |communal standpipe   |functional             |2011|7    |13 |\n",
      "|20.0      |Mkinga Distric Coun    |0.0       |DWE                 |39.1727956 |-4.76558728 |Tajiri                |0          |Pangani                |Moa/Mwereme    |Tanga      |4          |8            |Mkinga          |Moa           |1         |True          |VWC              |Zingibali                  |true  |2009             |submersible    |submersible          |submersible          |vwc             |user-group      |pay per bucket       |per bucket  |salty        |salty        |enough      |enough        |other               |other               |unknown     |communal standpipe multiple|communal standpipe   |functional             |2011|3    |13 |\n",
      "|0.0       |Dwsp                   |0.0       |DWSP                |33.36240982|-3.76636472 |Kwa Ngomho            |0          |Internal               |Ishinabulandi  |Shinyanga  |17         |3            |Shinyanga Rural |Samuye        |0         |True          |VWC              |UNKNOWN                    |true  |0                |swn 80         |swn 80               |handpump             |vwc             |user-group      |never pay            |never pay   |soft         |good         |enough      |enough        |machine dbh         |borehole            |groundwater |hand pump                  |hand pump            |non functional         |2012|10   |1  |\n",
      "|0.0       |Rwssp                  |0.0       |DWE                 |32.62061707|-4.22619802 |Tushirikiane          |0          |Lake Tanganyika        |Nyawishi Center|Shinyanga  |17         |3            |Kahama          |Chambo        |0         |True          |UNKNOWN          |UNKNOWN                    |true  |0                |nira/tanira    |nira/tanira          |handpump             |wug             |user-group      |unknown              |unknown     |milky        |milky        |enough      |enough        |shallow well        |shallow well        |groundwater |hand pump                  |hand pump            |non functional         |2012|10   |9  |\n",
      "|0.0       |Wateraid               |0.0       |Water Aid           |32.71110001|-5.14671181 |Kwa Ramadhan Musa     |0          |Lake Tanganyika        |Imalauduki     |Tabora     |14         |6            |Tabora Urban    |Itetemia      |0         |True          |VWC              |UNKNOWN                    |true  |0                |india mark ii  |india mark ii        |handpump             |vwc             |user-group      |never pay            |never pay   |salty        |salty        |seasonal    |seasonal      |machine dbh         |borehole            |groundwater |hand pump                  |hand pump            |non functional         |2012|11   |3  |\n",
      "|0.0       |Isingiro Ho            |0.0       |Artisan             |30.62699053|-1.25705061 |Kwapeto               |0          |Lake Victoria          |Mkonomre       |Kagera     |18         |1            |Karagwe         |Kaisho        |0         |True          |UNKNOWN          |UNKNOWN                    |true  |0                |nira/tanira    |nira/tanira          |handpump             |vwc             |user-group      |never pay            |never pay   |soft         |good         |enough      |enough        |shallow well        |shallow well        |groundwater |hand pump                  |hand pump            |functional             |2011|8    |3  |\n",
      "|0.0       |Private                |62.0      |Private             |39.20951812|-7.03413939 |Mzee Hokororo         |0          |Wami / Ruvu            |Mizugo         |Pwani      |60         |43           |Mkuranga        |Tambani       |345       |True          |Private operator |UNKNOWN                    |false |2011             |submersible    |submersible          |submersible          |private operator|commercial      |never pay            |never pay   |salty        |salty        |enough      |enough        |machine dbh         |borehole            |groundwater |other                      |other                |functional             |2011|2    |20 |\n",
      "|200.0     |Danida                 |1062.0    |DANIDA              |35.77025785|-10.57417468|Kwa Alid Nchimbi      |0          |Lake Nyasa             |Ngondombwito   |Ruvuma     |10         |5            |Namtumbo        |Msindo        |250       |True          |WUG              |UNKNOWN                    |false |1987             |swn 80         |swn 80               |handpump             |wug             |user-group      |pay when scheme fails|on failure  |soft         |good         |insufficient|insufficient  |shallow well        |shallow well        |groundwater |hand pump                  |hand pump            |functional             |2013|2    |18 |\n",
      "|0.0       |World Vision           |0.0       |World vision        |33.79810612|-3.2901938  |Pamba                 |0          |Internal               |Nkilifa        |Shinyanga  |17         |2            |Maswa           |Busilili      |0         |True          |WUG              |UNKNOWN                    |false |0                |nira/tanira    |nira/tanira          |handpump             |wug             |user-group      |other                |other       |soft         |good         |enough      |enough        |shallow well        |shallow well        |groundwater |hand pump                  |hand pump            |functional             |2012|10   |14 |\n",
      "|0.0       |Lawatefuka Water Supply|1368.0    |Lawatefuka water sup|37.09257412|-3.1817833  |Kwa John Izack Mmari  |0          |Pangani                |Omarini        |Kilimanjaro|3          |7            |Siha            |Siha Kaskazini|1         |True          |Water Board      |BL Bondeni                 |true  |2009             |gravity        |gravity              |gravity              |water board     |user-group      |pay monthly          |monthly     |soft         |good         |enough      |enough        |spring              |spring              |groundwater |communal standpipe         |communal standpipe   |functional             |2013|3    |15 |\n",
      "|0.0       |Biore                  |0.0       |WEDECO              |34.36407268|-3.62933335 |Mwabasabi             |0          |Internal               |Mwabasabi      |Shinyanga  |17         |6            |Meatu           |Nkoma         |0         |True          |WUG              |None                       |true  |0                |nira/tanira    |nira/tanira          |handpump             |wug             |user-group      |never pay            |never pay   |soft         |good         |enough      |enough        |shallow well        |shallow well        |groundwater |hand pump                  |hand pump            |functional             |2012|10   |20 |\n",
      "|0.0       |Rudep                  |1645.0    |DWE                 |31.44412134|-8.27496163 |Kwa Juvenal Ching'Ombe|0          |Lake Tanganyika        |Tunzi          |Rukwa      |15         |2            |Sumbawanga Rural|Mkowe         |200       |True          |VWC              |UNKNOWN                    |false |1991             |swn 80         |swn 80               |handpump             |vwc             |user-group      |never pay            |never pay   |soft         |good         |enough      |enough        |machine dbh         |borehole            |groundwater |hand pump                  |hand pump            |functional             |2011|8    |4  |\n",
      "|500.0     |Unicef                 |1703.0    |DWE                 |34.64243884|-9.10618458 |Kwa John Mtenzi       |0          |Rufiji                 |Kidudumo       |Iringa     |11         |4            |Njombe          |Mdandu        |35        |True          |WUA              |wanging'ombe water supply s|true  |1978             |gravity        |gravity              |gravity              |wua             |user-group      |pay monthly          |monthly     |soft         |good         |dry         |dry           |river               |river/lake          |surface     |communal standpipe         |communal standpipe   |non functional         |2011|7    |4  |\n",
      "|0.0       |Unicef                 |1656.0    |DWE                 |34.56926611|-9.08551497 |Kwa Rose Chaula       |0          |Rufiji                 |Yeriko         |Iringa     |11         |4            |Njombe          |Usuka         |50        |True          |WUA              |wanging'ombe water supply s|true  |1978             |gravity        |gravity              |gravity              |wua             |user-group      |pay when scheme fails|on failure  |soft         |good         |dry         |dry           |river               |river/lake          |surface     |communal standpipe         |communal standpipe   |non functional         |2011|9    |4  |\n",
      "|0.0       |Hesawa                 |1162.0    |DWE                 |32.92015381|-1.94786801 |Ngomee                |0          |Lake Victoria          |Center         |Mwanza     |19         |1            |Ukerewe         |Ilangala      |1000      |UNKNOWN       |UNKNOWN          |UNKNOWN                    |true  |1999             |other          |other                |other                |vwc             |user-group      |never pay            |never pay   |milky        |milky        |insufficient|insufficient  |spring              |spring              |groundwater |other                      |other                |functional needs repair|2011|7    |22 |\n",
      "|500.0     |Danida                 |1763.0    |Danid               |34.50896732|-9.8944125  |none                  |0          |Lake Nyasa             |Manyanya       |Iringa     |11         |5            |Ludewa          |Mawengi       |1         |True          |VWC              |Makanj                     |true  |1992             |gravity        |gravity              |gravity              |vwc             |user-group      |pay annually         |annually    |soft         |good         |enough      |enough        |spring              |spring              |groundwater |communal standpipe         |communal standpipe   |functional             |2011|2    |22 |\n",
      "+----------+-----------------------+----------+--------------------+-----------+------------+----------------------+-----------+-----------------------+---------------+-----------+-----------+-------------+----------------+--------------+----------+--------------+-----------------+---------------------------+------+-----------------+---------------+---------------------+---------------------+----------------+----------------+---------------------+------------+-------------+-------------+------------+--------------+--------------------+--------------------+------------+---------------------------+---------------------+-----------------------+----+-----+---+\n",
      "only showing top 20 rows\n",
      "\n"
     ]
    }
   ],
   "source": [
    "combined_data_df_final.show(truncate=False)"
   ]
  },
  {
   "cell_type": "code",
   "execution_count": 142,
   "metadata": {
    "colab": {
     "base_uri": "https://localhost:8080/",
     "height": 139
    },
    "colab_type": "code",
    "id": "jtoufv-j033P",
    "outputId": "53574df0-e3ce-4eb4-bb32-67b299d83195"
   },
   "outputs": [
    {
     "name": "stdout",
     "output_type": "stream",
     "text": [
      "+----------+------+----------+---------+---------+--------+--------+-----------+-----+----------+------+-----------+-------------+---+----+----------+--------------+-----------------+-----------+------+-----------------+---------------+---------------------+---------------------+----------+----------------+-------+------------+-------------+-------------+--------+--------------+------+-----------+------------+---------------+---------------------+------------+----+-----+---+\n",
      "|amount_tsh|funder|gps_height|installer|longitude|latitude|wpt_name|num_private|basin|subvillage|region|region_code|district_code|lga|ward|population|public_meeting|scheme_management|scheme_name|permit|construction_year|extraction_type|extraction_type_group|extraction_type_class|management|management_group|payment|payment_type|water_quality|quality_group|quantity|quantity_group|source|source_type|source_class|waterpoint_type|waterpoint_type_group|status_group|Year|Month|Day|\n",
      "+----------+------+----------+---------+---------+--------+--------+-----------+-----+----------+------+-----------+-------------+---+----+----------+--------------+-----------------+-----------+------+-----------------+---------------+---------------------+---------------------+----------+----------------+-------+------------+-------------+-------------+--------+--------------+------+-----------+------------+---------------+---------------------+------------+----+-----+---+\n",
      "|0         |0     |0         |0        |0        |0       |0       |0          |0    |0         |0     |0          |0            |0  |0   |0         |0             |0                |0          |0     |0                |0              |0                    |0                    |0         |0               |0      |0           |0            |0            |0       |0             |0     |0          |0           |0              |0                    |0           |0   |0    |0  |\n",
      "+----------+------+----------+---------+---------+--------+--------+-----------+-----+----------+------+-----------+-------------+---+----+----------+--------------+-----------------+-----------+------+-----------------+---------------+---------------------+---------------------+----------+----------------+-------+------------+-------------+-------------+--------+--------------+------+-----------+------------+---------------+---------------------+------------+----+-----+---+\n",
      "\n"
     ]
    }
   ],
   "source": [
    "### NO NULLs/NANs in the final dataframe\n",
    "combined_data_df_final.select([count(when(isnan(c) | col(c).isNull(), c)).alias(c) for c in combined_data_df_final.columns]).show(truncate=False)"
   ]
  },
  {
   "cell_type": "code",
   "execution_count": 0,
   "metadata": {
    "colab": {},
    "colab_type": "code",
    "id": "VF-NXMuTAvcY"
   },
   "outputs": [],
   "source": []
  },
  {
   "cell_type": "code",
   "execution_count": 0,
   "metadata": {
    "colab": {},
    "colab_type": "code",
    "id": "_yR2klki030M"
   },
   "outputs": [],
   "source": []
  },
  {
   "cell_type": "code",
   "execution_count": 0,
   "metadata": {
    "colab": {},
    "colab_type": "code",
    "id": "vnJ9mqLs03yU"
   },
   "outputs": [],
   "source": []
  }
 ],
 "metadata": {
  "accelerator": "GPU",
  "colab": {
   "collapsed_sections": [],
   "name": "3226_Cute4_BigData_Batch74.ipynb",
   "provenance": []
  },
  "kernelspec": {
   "display_name": "Python 3",
   "language": "python",
   "name": "python3"
  },
  "language_info": {
   "codemirror_mode": {
    "name": "ipython",
    "version": 3
   },
   "file_extension": ".py",
   "mimetype": "text/x-python",
   "name": "python",
   "nbconvert_exporter": "python",
   "pygments_lexer": "ipython3",
   "version": "3.6.5"
  }
 },
 "nbformat": 4,
 "nbformat_minor": 1
}
